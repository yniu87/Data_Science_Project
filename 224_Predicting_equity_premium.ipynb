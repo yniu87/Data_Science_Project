{
 "cells": [
  {
   "cell_type": "markdown",
   "metadata": {},
   "source": [
    "# A Machine Learning Approach to Equity Premium Prediction\n",
    "By Shane Johnson (ND CS), Catherine Markley (ND CS), Yuanhao Niu (ND Econ), Nick Rocco (ND CS) \n",
    "<br>-- Fall 2018 CSE 40647/60647 Data Science Project"
   ]
  },
  {
   "cell_type": "markdown",
   "metadata": {},
   "source": [
    "## Introduction\n",
    "We try to use machine learning methods to predict equity premium based on predictors from the seminal paper of Goyal and Welch (2008). \n",
    "\n",
    "We first build and clean our dataset. Then we try to predict bull/bear market as a classification job. Portfolio based on the prediction were constructed accordingly. In a parallel task, we use different regression approaches to predict equity premium. Our models outperforme the historical average forecast. "
   ]
  },
  {
   "cell_type": "markdown",
   "metadata": {},
   "source": [
    "## Data Cleaning\n",
    "\n",
    "Raw data are downloaded from Prof. Goyal's webside. We included their orginal monthly data from 1926/12 to 2013/12."
   ]
  },
  {
   "cell_type": "code",
   "execution_count": 1,
   "metadata": {},
   "outputs": [],
   "source": [
    "import pandas as pd\n",
    "import numpy as np\n",
    "df = pd.read_csv(\"raw_predictors_until2013.csv\")"
   ]
  },
  {
   "cell_type": "markdown",
   "metadata": {},
   "source": [
    "Generate the predictors based on the raw data, as in Welch and Goyal (2008)"
   ]
  },
  {
   "cell_type": "code",
   "execution_count": 2,
   "metadata": {},
   "outputs": [],
   "source": [
    "# equity premium, i.e., the total rate of return on the stock market minus the prevailing short-term interest rate.\n",
    "df['premium'] = df['CRSP_SPvw'] - df['Rfree']\n",
    "\n",
    "# Dividend Price Ratio (d/p) is the difference between the log of dividends and the log of prices. \n",
    "df['d/p'] = np.log(df['D12']) - np.log(df['Index'])\n",
    "\n",
    "# Dividend Yield (d/y) is the difference between the log of dividends and the log of lagged prices.\n",
    "df['d/y'] = np.log(df['D12'])- np.log(df['Index'].shift(1))\n",
    "\n",
    "# Earnings Price Ratio (e/p) is the difference between the log of earnings and the log of prices.\n",
    "df['e/p'] = np.log(df['E12']) - np.log(df['Index'])\n",
    "\n",
    "# Dividend Payout Ratio (d/e) is the difference between the log of dividends and the log of earnings.\n",
    "df['d/e'] = np.log(df['D12']) - np.log(df['E12'])\n",
    "\n",
    "# Term Spread (tms) is the difference between the long term yield on government bonds and the T-bill.\n",
    "df['tms'] = df['lty'] - df['tbl']\n",
    "\n",
    "# Default Yield Spread (dfy): is the difference between BAA- and AAA- rated cor- porate bond yields.\n",
    "df['dfy'] = df['BAA'] - df['AAA']\n",
    "\n",
    "# Default Return Spread (dfr): is the difference between the return on long-term corporate bonds and returns on the long-term government bonds.\n",
    "df['dfr'] = df['corpr'] - df['ltr']"
   ]
  },
  {
   "cell_type": "code",
   "execution_count": 3,
   "metadata": {
    "scrolled": true
   },
   "outputs": [],
   "source": [
    "# drop the first observation for 1926/12 (used it to calculate lagged value)\n",
    "df = df[1:]"
   ]
  },
  {
   "cell_type": "markdown",
   "metadata": {},
   "source": [
    "We generate indicators for bull market."
   ]
  },
  {
   "cell_type": "code",
   "execution_count": 4,
   "metadata": {},
   "outputs": [],
   "source": [
    "sLength = len(df['yyyymm'])\n",
    "# add the bullMarket column with random ints (to be replaced in next cell)\n",
    "df['bull'] = pd.Series(np.random.randn(sLength), index=df.index)\n",
    "# Create bullMarkert for ret\n",
    "bull = []\n",
    "for d in df['CRSP_SPvw']:\n",
    "    if d > 0:\n",
    "        bull.append(1)\n",
    "    else:\n",
    "        bull.append(0)\n",
    "df['bull'] = bull"
   ]
  },
  {
   "cell_type": "code",
   "execution_count": 5,
   "metadata": {},
   "outputs": [],
   "source": [
    "# drop the redundent variables\n",
    "df = df.drop(columns=['Index','D12', 'E12', 'AAA', 'BAA', 'CRSP_SPvwx', 'corpr','Rfree', 'CRSP_SPvw'])"
   ]
  },
  {
   "cell_type": "code",
   "execution_count": 6,
   "metadata": {},
   "outputs": [],
   "source": [
    "# The Cross-Sectional Premium (csp) was only available from May 1937 to December 2002. \n",
    "# We compute the average of the data and fill the missing values with the average value.\n",
    "pd.options.mode.chained_assignment=None\n",
    "df['csp'][0:124] = df['csp'][124:911].mean()\n",
    "df['csp'][912:]  = df['csp'][124:911].mean()"
   ]
  },
  {
   "cell_type": "markdown",
   "metadata": {},
   "source": [
    "We calculate the benchmark (historical average) prediction"
   ]
  },
  {
   "cell_type": "code",
   "execution_count": 7,
   "metadata": {},
   "outputs": [],
   "source": [
    "premium = 0\n",
    "count = 0\n",
    "\n",
    "temp = df['premium']\n",
    "\n",
    "his_avg = []\n",
    "\n",
    "for i in temp:\n",
    "    premium += i\n",
    "    count += 1\n",
    "    his_avg.append(premium/count)\n",
    "\n",
    "df['his_avg'] = his_avg"
   ]
  },
  {
   "cell_type": "markdown",
   "metadata": {},
   "source": [
    "Now we had the clean dataset to work on!"
   ]
  },
  {
   "cell_type": "code",
   "execution_count": 8,
   "metadata": {
    "scrolled": true
   },
   "outputs": [
    {
     "data": {
      "text/html": [
       "<div>\n",
       "<style scoped>\n",
       "    .dataframe tbody tr th:only-of-type {\n",
       "        vertical-align: middle;\n",
       "    }\n",
       "\n",
       "    .dataframe tbody tr th {\n",
       "        vertical-align: top;\n",
       "    }\n",
       "\n",
       "    .dataframe thead th {\n",
       "        text-align: right;\n",
       "    }\n",
       "</style>\n",
       "<table border=\"1\" class=\"dataframe\">\n",
       "  <thead>\n",
       "    <tr style=\"text-align: right;\">\n",
       "      <th></th>\n",
       "      <th>yyyymm</th>\n",
       "      <th>Month</th>\n",
       "      <th>his_avg</th>\n",
       "      <th>bull</th>\n",
       "      <th>premium</th>\n",
       "      <th>d/p</th>\n",
       "      <th>d/y</th>\n",
       "      <th>e/p</th>\n",
       "      <th>d/e</th>\n",
       "      <th>svar</th>\n",
       "      <th>csp</th>\n",
       "      <th>b/m</th>\n",
       "      <th>ntis</th>\n",
       "      <th>tbl</th>\n",
       "      <th>lty</th>\n",
       "      <th>ltr</th>\n",
       "      <th>tms</th>\n",
       "      <th>dfy</th>\n",
       "      <th>dfr</th>\n",
       "      <th>infl</th>\n",
       "    </tr>\n",
       "  </thead>\n",
       "  <tbody>\n",
       "    <tr>\n",
       "      <th>1</th>\n",
       "      <td>192701</td>\n",
       "      <td>1</td>\n",
       "      <td>-0.005602</td>\n",
       "      <td>0</td>\n",
       "      <td>-0.005602</td>\n",
       "      <td>-2.942374</td>\n",
       "      <td>-2.963349</td>\n",
       "      <td>-2.374773</td>\n",
       "      <td>-0.567601</td>\n",
       "      <td>0.000470</td>\n",
       "      <td>0.00037</td>\n",
       "      <td>0.443706</td>\n",
       "      <td>0.050834</td>\n",
       "      <td>0.0323</td>\n",
       "      <td>0.0351</td>\n",
       "      <td>0.0075</td>\n",
       "      <td>0.0028</td>\n",
       "      <td>0.0095</td>\n",
       "      <td>-0.0019</td>\n",
       "      <td>-0.011299</td>\n",
       "    </tr>\n",
       "    <tr>\n",
       "      <th>2</th>\n",
       "      <td>192702</td>\n",
       "      <td>2</td>\n",
       "      <td>0.018589</td>\n",
       "      <td>1</td>\n",
       "      <td>0.042780</td>\n",
       "      <td>-2.979535</td>\n",
       "      <td>-2.932946</td>\n",
       "      <td>-2.430353</td>\n",
       "      <td>-0.549182</td>\n",
       "      <td>0.000287</td>\n",
       "      <td>0.00037</td>\n",
       "      <td>0.428501</td>\n",
       "      <td>0.051682</td>\n",
       "      <td>0.0329</td>\n",
       "      <td>0.0347</td>\n",
       "      <td>0.0088</td>\n",
       "      <td>0.0018</td>\n",
       "      <td>0.0092</td>\n",
       "      <td>-0.0019</td>\n",
       "      <td>-0.005714</td>\n",
       "    </tr>\n",
       "    <tr>\n",
       "      <th>3</th>\n",
       "      <td>192703</td>\n",
       "      <td>3</td>\n",
       "      <td>0.013945</td>\n",
       "      <td>1</td>\n",
       "      <td>0.004657</td>\n",
       "      <td>-2.976535</td>\n",
       "      <td>-2.970053</td>\n",
       "      <td>-2.445079</td>\n",
       "      <td>-0.531456</td>\n",
       "      <td>0.000924</td>\n",
       "      <td>0.00037</td>\n",
       "      <td>0.469765</td>\n",
       "      <td>0.046370</td>\n",
       "      <td>0.0320</td>\n",
       "      <td>0.0331</td>\n",
       "      <td>0.0253</td>\n",
       "      <td>0.0011</td>\n",
       "      <td>0.0092</td>\n",
       "      <td>-0.0170</td>\n",
       "      <td>-0.005747</td>\n",
       "    </tr>\n",
       "    <tr>\n",
       "      <th>4</th>\n",
       "      <td>192704</td>\n",
       "      <td>4</td>\n",
       "      <td>0.013008</td>\n",
       "      <td>1</td>\n",
       "      <td>0.010196</td>\n",
       "      <td>-2.984225</td>\n",
       "      <td>-2.967143</td>\n",
       "      <td>-2.471309</td>\n",
       "      <td>-0.512916</td>\n",
       "      <td>0.000603</td>\n",
       "      <td>0.00037</td>\n",
       "      <td>0.456754</td>\n",
       "      <td>0.050518</td>\n",
       "      <td>0.0339</td>\n",
       "      <td>0.0333</td>\n",
       "      <td>-0.0005</td>\n",
       "      <td>-0.0006</td>\n",
       "      <td>0.0090</td>\n",
       "      <td>0.0060</td>\n",
       "      <td>0.000000</td>\n",
       "    </tr>\n",
       "    <tr>\n",
       "      <th>5</th>\n",
       "      <td>192705</td>\n",
       "      <td>5</td>\n",
       "      <td>0.022322</td>\n",
       "      <td>1</td>\n",
       "      <td>0.059578</td>\n",
       "      <td>-3.025963</td>\n",
       "      <td>-2.975058</td>\n",
       "      <td>-2.531446</td>\n",
       "      <td>-0.494518</td>\n",
       "      <td>0.000392</td>\n",
       "      <td>0.00037</td>\n",
       "      <td>0.434783</td>\n",
       "      <td>0.055279</td>\n",
       "      <td>0.0333</td>\n",
       "      <td>0.0327</td>\n",
       "      <td>0.0109</td>\n",
       "      <td>-0.0006</td>\n",
       "      <td>0.0093</td>\n",
       "      <td>-0.0120</td>\n",
       "      <td>0.005780</td>\n",
       "    </tr>\n",
       "  </tbody>\n",
       "</table>\n",
       "</div>"
      ],
      "text/plain": [
       "   yyyymm  Month   his_avg  bull   premium       d/p       d/y       e/p  \\\n",
       "1  192701      1 -0.005602     0 -0.005602 -2.942374 -2.963349 -2.374773   \n",
       "2  192702      2  0.018589     1  0.042780 -2.979535 -2.932946 -2.430353   \n",
       "3  192703      3  0.013945     1  0.004657 -2.976535 -2.970053 -2.445079   \n",
       "4  192704      4  0.013008     1  0.010196 -2.984225 -2.967143 -2.471309   \n",
       "5  192705      5  0.022322     1  0.059578 -3.025963 -2.975058 -2.531446   \n",
       "\n",
       "        d/e      svar      csp       b/m      ntis     tbl     lty     ltr  \\\n",
       "1 -0.567601  0.000470  0.00037  0.443706  0.050834  0.0323  0.0351  0.0075   \n",
       "2 -0.549182  0.000287  0.00037  0.428501  0.051682  0.0329  0.0347  0.0088   \n",
       "3 -0.531456  0.000924  0.00037  0.469765  0.046370  0.0320  0.0331  0.0253   \n",
       "4 -0.512916  0.000603  0.00037  0.456754  0.050518  0.0339  0.0333 -0.0005   \n",
       "5 -0.494518  0.000392  0.00037  0.434783  0.055279  0.0333  0.0327  0.0109   \n",
       "\n",
       "      tms     dfy     dfr      infl  \n",
       "1  0.0028  0.0095 -0.0019 -0.011299  \n",
       "2  0.0018  0.0092 -0.0019 -0.005714  \n",
       "3  0.0011  0.0092 -0.0170 -0.005747  \n",
       "4 -0.0006  0.0090  0.0060  0.000000  \n",
       "5 -0.0006  0.0093 -0.0120  0.005780  "
      ]
     },
     "execution_count": 8,
     "metadata": {},
     "output_type": "execute_result"
    }
   ],
   "source": [
    "# reorganize the dataframe\n",
    "df = df[['yyyymm','Month','his_avg','bull','premium','d/p','d/y','e/p','d/e','svar',\n",
    "          'csp','b/m','ntis','tbl','lty','ltr','tms','dfy','dfr','infl']]\n",
    "df.head(5)"
   ]
  },
  {
   "cell_type": "markdown",
   "metadata": {},
   "source": [
    "Plot the heatmap of feature correlation"
   ]
  },
  {
   "cell_type": "code",
   "execution_count": 11,
   "metadata": {
    "scrolled": true
   },
   "outputs": [
    {
     "data": {
      "text/plain": [
       "<matplotlib.axes._subplots.AxesSubplot at 0x1a209e1518>"
      ]
     },
     "execution_count": 11,
     "metadata": {},
     "output_type": "execute_result"
    },
    {
     "data": {
      "image/png": "[encoded data removed]",
      "text/plain": [
       "<Figure size 792x648 with 2 Axes>"
      ]
     },
     "metadata": {},
     "output_type": "display_data"
    }
   ],
   "source": [
    "features = df[['premium','d/p','d/y','e/p','d/e','svar',\n",
    "          'csp','b/m','ntis','tbl','lty','ltr','tms','dfy','dfr','infl']]\n",
    "\n",
    "corr = features.corr()\n",
    "\n",
    "import seaborn as sns\n",
    "import matplotlib.pyplot as plt\n",
    "\n",
    "# Generate a mask for the upper triangle\n",
    "mask = np.zeros_like(corr, dtype=np.bool)\n",
    "mask[np.triu_indices_from(mask)] = True\n",
    "\n",
    "# Set up the matplotlib figure\n",
    "f, ax = plt.subplots(figsize=(11, 9))\n",
    "\n",
    "# Generate a custom diverging colormap\n",
    "cmap = sns.diverging_palette(220, 10, as_cmap=True)\n",
    "\n",
    "# Draw the heatmap with the mask and correct aspect ratio\n",
    "sns.heatmap(corr, mask=mask, cmap=cmap, vmax=.3, center=0,\n",
    "            square=True, linewidths=.5, cbar_kws={\"shrink\": .5})"
   ]
  },
  {
   "cell_type": "markdown",
   "metadata": {},
   "source": [
    "We recognize the autocorrelation in time series. In order to take full advantage of the past information, we include the past 20 years' data in the prediction. Here we generate predictors for the past 20 years, i.e. 240 months"
   ]
  },
  {
   "cell_type": "code",
   "execution_count": 12,
   "metadata": {},
   "outputs": [],
   "source": [
    "past = 241\n",
    "\n",
    "num = len(df.columns)\n",
    "for i in range(4,num):\n",
    "    name = df.columns[i]\n",
    "    for j in range(1,past):\n",
    "        t = str(j)\n",
    "        df[name+\"-\"+t] = df[name].shift(j)"
   ]
  },
  {
   "cell_type": "code",
   "execution_count": 13,
   "metadata": {
    "scrolled": true
   },
   "outputs": [],
   "source": [
    "# drop the first past-20 years predictors\n",
    "df = df[past-1:]"
   ]
  },
  {
   "cell_type": "code",
   "execution_count": 14,
   "metadata": {
    "scrolled": true
   },
   "outputs": [],
   "source": [
    "# drop the contemporanous predictors\n",
    "df = df.drop(columns=['d/p','d/y','e/p','d/e','svar',\n",
    "          'csp','b/m','ntis','tbl','lty','ltr','tms','dfy','dfr','infl'])"
   ]
  },
  {
   "cell_type": "code",
   "execution_count": 15,
   "metadata": {
    "scrolled": true
   },
   "outputs": [
    {
     "data": {
      "text/plain": [
       "3845"
      ]
     },
     "execution_count": 15,
     "metadata": {},
     "output_type": "execute_result"
    }
   ],
   "source": [
    "# column number 3845: 'yyyymm','Month',‘his_avg’，'bull','premium' + 16 indicator * 240 months \n",
    "len(df.columns)"
   ]
  },
  {
   "cell_type": "code",
   "execution_count": 16,
   "metadata": {},
   "outputs": [
    {
     "data": {
      "text/html": [
       "<div>\n",
       "<style scoped>\n",
       "    .dataframe tbody tr th:only-of-type {\n",
       "        vertical-align: middle;\n",
       "    }\n",
       "\n",
       "    .dataframe tbody tr th {\n",
       "        vertical-align: top;\n",
       "    }\n",
       "\n",
       "    .dataframe thead th {\n",
       "        text-align: right;\n",
       "    }\n",
       "</style>\n",
       "<table border=\"1\" class=\"dataframe\">\n",
       "  <thead>\n",
       "    <tr style=\"text-align: right;\">\n",
       "      <th></th>\n",
       "      <th>yyyymm</th>\n",
       "      <th>Month</th>\n",
       "      <th>his_avg</th>\n",
       "      <th>bull</th>\n",
       "      <th>premium</th>\n",
       "      <th>premium-1</th>\n",
       "      <th>premium-2</th>\n",
       "      <th>premium-3</th>\n",
       "      <th>premium-4</th>\n",
       "      <th>premium-5</th>\n",
       "      <th>...</th>\n",
       "      <th>infl-231</th>\n",
       "      <th>infl-232</th>\n",
       "      <th>infl-233</th>\n",
       "      <th>infl-234</th>\n",
       "      <th>infl-235</th>\n",
       "      <th>infl-236</th>\n",
       "      <th>infl-237</th>\n",
       "      <th>infl-238</th>\n",
       "      <th>infl-239</th>\n",
       "      <th>infl-240</th>\n",
       "    </tr>\n",
       "  </thead>\n",
       "  <tbody>\n",
       "    <tr>\n",
       "      <th>241</th>\n",
       "      <td>194701</td>\n",
       "      <td>1</td>\n",
       "      <td>0.007164</td>\n",
       "      <td>1</td>\n",
       "      <td>0.021696</td>\n",
       "      <td>0.046501</td>\n",
       "      <td>-0.004118</td>\n",
       "      <td>-0.005953</td>\n",
       "      <td>-0.104430</td>\n",
       "      <td>-0.069172</td>\n",
       "      <td>...</td>\n",
       "      <td>0.005780</td>\n",
       "      <td>0.005814</td>\n",
       "      <td>-0.005780</td>\n",
       "      <td>-0.017045</td>\n",
       "      <td>0.011494</td>\n",
       "      <td>0.005780</td>\n",
       "      <td>0.000000</td>\n",
       "      <td>-0.005747</td>\n",
       "      <td>-0.005714</td>\n",
       "      <td>-0.011299</td>\n",
       "    </tr>\n",
       "    <tr>\n",
       "      <th>242</th>\n",
       "      <td>194702</td>\n",
       "      <td>2</td>\n",
       "      <td>0.007099</td>\n",
       "      <td>0</td>\n",
       "      <td>-0.008624</td>\n",
       "      <td>0.021696</td>\n",
       "      <td>0.046501</td>\n",
       "      <td>-0.004118</td>\n",
       "      <td>-0.005953</td>\n",
       "      <td>-0.104430</td>\n",
       "      <td>...</td>\n",
       "      <td>-0.005747</td>\n",
       "      <td>0.005780</td>\n",
       "      <td>0.005814</td>\n",
       "      <td>-0.005780</td>\n",
       "      <td>-0.017045</td>\n",
       "      <td>0.011494</td>\n",
       "      <td>0.005780</td>\n",
       "      <td>0.000000</td>\n",
       "      <td>-0.005747</td>\n",
       "      <td>-0.005714</td>\n",
       "    </tr>\n",
       "    <tr>\n",
       "      <th>243</th>\n",
       "      <td>194703</td>\n",
       "      <td>3</td>\n",
       "      <td>0.007006</td>\n",
       "      <td>0</td>\n",
       "      <td>-0.015325</td>\n",
       "      <td>-0.008624</td>\n",
       "      <td>0.021696</td>\n",
       "      <td>0.046501</td>\n",
       "      <td>-0.004118</td>\n",
       "      <td>-0.005953</td>\n",
       "      <td>...</td>\n",
       "      <td>0.000000</td>\n",
       "      <td>-0.005747</td>\n",
       "      <td>0.005780</td>\n",
       "      <td>0.005814</td>\n",
       "      <td>-0.005780</td>\n",
       "      <td>-0.017045</td>\n",
       "      <td>0.011494</td>\n",
       "      <td>0.005780</td>\n",
       "      <td>0.000000</td>\n",
       "      <td>-0.005747</td>\n",
       "    </tr>\n",
       "    <tr>\n",
       "      <th>244</th>\n",
       "      <td>194704</td>\n",
       "      <td>4</td>\n",
       "      <td>0.006814</td>\n",
       "      <td>0</td>\n",
       "      <td>-0.039877</td>\n",
       "      <td>-0.015325</td>\n",
       "      <td>-0.008624</td>\n",
       "      <td>0.021696</td>\n",
       "      <td>0.046501</td>\n",
       "      <td>-0.004118</td>\n",
       "      <td>...</td>\n",
       "      <td>0.000000</td>\n",
       "      <td>0.000000</td>\n",
       "      <td>-0.005747</td>\n",
       "      <td>0.005780</td>\n",
       "      <td>0.005814</td>\n",
       "      <td>-0.005780</td>\n",
       "      <td>-0.017045</td>\n",
       "      <td>0.011494</td>\n",
       "      <td>0.005780</td>\n",
       "      <td>0.000000</td>\n",
       "    </tr>\n",
       "    <tr>\n",
       "      <th>245</th>\n",
       "      <td>194705</td>\n",
       "      <td>5</td>\n",
       "      <td>0.006781</td>\n",
       "      <td>0</td>\n",
       "      <td>-0.001307</td>\n",
       "      <td>-0.039877</td>\n",
       "      <td>-0.015325</td>\n",
       "      <td>-0.008624</td>\n",
       "      <td>0.021696</td>\n",
       "      <td>0.046501</td>\n",
       "      <td>...</td>\n",
       "      <td>-0.011561</td>\n",
       "      <td>0.000000</td>\n",
       "      <td>0.000000</td>\n",
       "      <td>-0.005747</td>\n",
       "      <td>0.005780</td>\n",
       "      <td>0.005814</td>\n",
       "      <td>-0.005780</td>\n",
       "      <td>-0.017045</td>\n",
       "      <td>0.011494</td>\n",
       "      <td>0.005780</td>\n",
       "    </tr>\n",
       "  </tbody>\n",
       "</table>\n",
       "<p>5 rows × 3845 columns</p>\n",
       "</div>"
      ],
      "text/plain": [
       "     yyyymm  Month   his_avg  bull   premium  premium-1  premium-2  premium-3  \\\n",
       "241  194701      1  0.007164     1  0.021696   0.046501  -0.004118  -0.005953   \n",
       "242  194702      2  0.007099     0 -0.008624   0.021696   0.046501  -0.004118   \n",
       "243  194703      3  0.007006     0 -0.015325  -0.008624   0.021696   0.046501   \n",
       "244  194704      4  0.006814     0 -0.039877  -0.015325  -0.008624   0.021696   \n",
       "245  194705      5  0.006781     0 -0.001307  -0.039877  -0.015325  -0.008624   \n",
       "\n",
       "     premium-4  premium-5    ...     infl-231  infl-232  infl-233  infl-234  \\\n",
       "241  -0.104430  -0.069172    ...     0.005780  0.005814 -0.005780 -0.017045   \n",
       "242  -0.005953  -0.104430    ...    -0.005747  0.005780  0.005814 -0.005780   \n",
       "243  -0.004118  -0.005953    ...     0.000000 -0.005747  0.005780  0.005814   \n",
       "244   0.046501  -0.004118    ...     0.000000  0.000000 -0.005747  0.005780   \n",
       "245   0.021696   0.046501    ...    -0.011561  0.000000  0.000000 -0.005747   \n",
       "\n",
       "     infl-235  infl-236  infl-237  infl-238  infl-239  infl-240  \n",
       "241  0.011494  0.005780  0.000000 -0.005747 -0.005714 -0.011299  \n",
       "242 -0.017045  0.011494  0.005780  0.000000 -0.005747 -0.005714  \n",
       "243 -0.005780 -0.017045  0.011494  0.005780  0.000000 -0.005747  \n",
       "244  0.005814 -0.005780 -0.017045  0.011494  0.005780  0.000000  \n",
       "245  0.005780  0.005814 -0.005780 -0.017045  0.011494  0.005780  \n",
       "\n",
       "[5 rows x 3845 columns]"
      ]
     },
     "execution_count": 16,
     "metadata": {},
     "output_type": "execute_result"
    }
   ],
   "source": [
    "# now the features include the past 20 years observations\n",
    "df.head(5)"
   ]
  },
  {
   "cell_type": "markdown",
   "metadata": {},
   "source": [
    "Here we plot the distribution of the equity premium. The returns are left-skewed (i.e. negative skewness)."
   ]
  },
  {
   "cell_type": "code",
   "execution_count": 17,
   "metadata": {},
   "outputs": [
    {
     "data": {
      "image/png": "[encoded data removed]",
      "text/plain": [
       "<Figure size 432x288 with 1 Axes>"
      ]
     },
     "metadata": {},
     "output_type": "display_data"
    }
   ],
   "source": [
    "hist = df[\"premium\"].hist(bins=10)"
   ]
  },
  {
   "cell_type": "markdown",
   "metadata": {},
   "source": [
    "## Classification (Bull Market Prediction)"
   ]
  },
  {
   "cell_type": "markdown",
   "metadata": {},
   "source": [
    "For classification purpose, we first normalize the features "
   ]
  },
  {
   "cell_type": "code",
   "execution_count": 18,
   "metadata": {
    "scrolled": true
   },
   "outputs": [],
   "source": [
    "bull = df.bull\n",
    "x = df.iloc[:,5:]\n",
    "norm_x = (x- x.mean())/x.std(ddof=0)"
   ]
  },
  {
   "cell_type": "markdown",
   "metadata": {},
   "source": [
    "We use the first half as training data and the second half as testing data"
   ]
  },
  {
   "cell_type": "code",
   "execution_count": 59,
   "metadata": {},
   "outputs": [],
   "source": [
    "norm_x_train = norm_x[0:int(0.8*len(norm_x))]\n",
    "norm_x_test = norm_x[int(0.8*len(norm_x)):]\n",
    "bull_train = bull[0:int(0.8*len(norm_x))]\n",
    "bull_test = bull[int(0.8*len(norm_x)):]"
   ]
  },
  {
   "cell_type": "markdown",
   "metadata": {},
   "source": [
    "Decision tree (CART algorithm)"
   ]
  },
  {
   "cell_type": "code",
   "execution_count": 86,
   "metadata": {},
   "outputs": [
    {
     "name": "stdout",
     "output_type": "stream",
     "text": [
      "Confusion Matrix:  \n",
      " [[18 37]\n",
      " [44 62]]\n",
      "precision:  0.6263\n",
      "recall:  0.5849\n"
     ]
    }
   ],
   "source": [
    "from sklearn import tree\n",
    "from sklearn.metrics import confusion_matrix\n",
    "import matplotlib.pyplot as plt\n",
    "\n",
    "\n",
    "clf = tree.DecisionTreeClassifier(max_depth=50)\n",
    "clf = clf.fit(norm_x_train, bull_train)\n",
    "predicted = clf.predict(norm_x_test)\n",
    "c_matrix = confusion_matrix(predicted,bull_test)\n",
    "\n",
    "# precision = True Positive/(True Positive + False Positive)\n",
    "precision = c_matrix[1,1]/(c_matrix[1,1]+c_matrix[0,1])\n",
    "# Recall = True Positive/(True Positive + False Negative)\n",
    "recall= c_matrix[1,1]/(c_matrix[1,1]+c_matrix[1,0])\n",
    "\n",
    "print(\"Confusion Matrix: \" ,\"\\n\" , c_matrix)  \n",
    "\n",
    "print(\"precision: \", round(precision,4))  \n",
    "print(\"recall: \", round(recall,4))  "
   ]
  },
  {
   "cell_type": "code",
   "execution_count": 88,
   "metadata": {},
   "outputs": [
    {
     "data": {
      "image/png": "[encoded data removed]",
      "text/plain": [
       "<Figure size 432x288 with 1 Axes>"
      ]
     },
     "metadata": {},
     "output_type": "display_data"
    }
   ],
   "source": [
    "temp = df['premium']\n",
    "premium = temp[int(2*len(temp)/3):]\n",
    "cumsum = 0\n",
    "cs = []\n",
    "\n",
    "cumsum_h = 0\n",
    "cs_h = []\n",
    "\n",
    "for i in range(int(len(predicted))):\n",
    "    if predicted[i] == 1:\n",
    "        cumsum += premium[i+884]\n",
    "    else:\n",
    "        cumsum += -1*premium[i+884]\n",
    "        # unblock the above two lines to impose short-selling constraint\n",
    "    cs.append(cumsum)\n",
    "\n",
    "for i in range(len(bull_test)):\n",
    "    cumsum_h += premium[i+884]\n",
    "    cs_h.append(cumsum_h)\n",
    "    \n",
    "plt.figure()\n",
    "plt.plot(cs, label='ML Portfolio Return')\n",
    "plt.plot(cs_h, label='Benchmark Return')\n",
    "plt.legend(loc='best')\n",
    "plt.ylabel('Return ($)')\n",
    "plt.xlabel('Months')\n",
    "plt.show()"
   ]
  },
  {
   "cell_type": "markdown",
   "metadata": {},
   "source": [
    "Naive Bayes "
   ]
  },
  {
   "cell_type": "code",
   "execution_count": 99,
   "metadata": {},
   "outputs": [
    {
     "name": "stdout",
     "output_type": "stream",
     "text": [
      "Confusion Matrix: \n",
      " [[48 66]\n",
      " [14 33]]\n",
      "precision:  0.3333\n",
      "recall:  0.7021\n"
     ]
    }
   ],
   "source": [
    "from sklearn.naive_bayes import GaussianNB\n",
    "\n",
    "gnb = GaussianNB()\n",
    "\n",
    "gnb.fit(norm_x_train,bull_train).predict(norm_x_test)\n",
    "\n",
    "predicted= gnb.predict(norm_x_test)\n",
    "\n",
    "c_matrix = confusion_matrix(predicted,bull_test)\n",
    "precision = c_matrix[1,1]/(c_matrix[1,1]+c_matrix[0,1])\n",
    "recall= c_matrix[1,1]/(c_matrix[1,1]+c_matrix[1,0])\n",
    "\n",
    "print(\"Confusion Matrix: \"\"\\n\" , c_matrix)  \n",
    "\n",
    "print(\"precision: \", round(precision,4))  \n",
    "print(\"recall: \", round(recall,4)) "
   ]
  },
  {
   "cell_type": "code",
   "execution_count": 102,
   "metadata": {},
   "outputs": [
    {
     "data": {
      "image/png": "[encoded data removed]",
      "text/plain": [
       "<Figure size 432x288 with 1 Axes>"
      ]
     },
     "metadata": {},
     "output_type": "display_data"
    }
   ],
   "source": [
    "temp = df['premium']\n",
    "premium = temp[int(len(temp)/2):]\n",
    "\n",
    "cumsum = 0\n",
    "cs = []\n",
    "\n",
    "cumsum_h = 0\n",
    "cs_h = []\n",
    "\n",
    "for i in range(len(predicted)):\n",
    "    if predicted[i] == 1:\n",
    "        cumsum += premium[i+884]\n",
    "    else:\n",
    "        cumsum += -1*premium[i+884]\n",
    "        # unblock the above two lines to impose short-selling constraint\n",
    "    cs.append(cumsum)\n",
    "\n",
    "for i in range(len(bull_test)):\n",
    "    cumsum_h += premium[i+884]\n",
    "    cs_h.append(cumsum_h)\n",
    "    \n",
    "plt.figure()\n",
    "plt.plot(cs, label='ML Portfolio Return')\n",
    "plt.plot(cs_h, label='Benchmark Return')\n",
    "plt.legend(loc='best')\n",
    "plt.ylabel('Return ($)')\n",
    "plt.xlabel('Months')\n",
    "plt.show()"
   ]
  },
  {
   "cell_type": "markdown",
   "metadata": {},
   "source": [
    "K-Means (K=7)"
   ]
  },
  {
   "cell_type": "code",
   "execution_count": 139,
   "metadata": {},
   "outputs": [
    {
     "name": "stdout",
     "output_type": "stream",
     "text": [
      "Confusion Matrix: \n",
      " [[55 84]\n",
      " [ 7 15]]\n",
      "precision:  0.1515\n",
      "recall:  0.6818\n"
     ]
    }
   ],
   "source": [
    "from sklearn.neighbors import KNeighborsClassifier\n",
    "\n",
    "clf = KNeighborsClassifier(n_neighbors=7)\n",
    "clf.fit(norm_x_train, bull_train)\n",
    "predicted= clf.predict(norm_x_test)\n",
    "\n",
    "c_matrix = confusion_matrix(predicted,bull_test)\n",
    "precision = c_matrix[1,1]/(c_matrix[1,1]+c_matrix[0,1])\n",
    "recall= c_matrix[1,1]/(c_matrix[1,1]+c_matrix[1,0])\n",
    "\n",
    "print(\"Confusion Matrix: \"\"\\n\" , c_matrix)    \n",
    "\n",
    "print(\"precision: \", round(precision,4))  \n",
    "print(\"recall: \", round(recall,4))  "
   ]
  },
  {
   "cell_type": "code",
   "execution_count": 141,
   "metadata": {
    "scrolled": true
   },
   "outputs": [
    {
     "data": {
      "image/png": "[encoded data removed]",
      "text/plain": [
       "<Figure size 432x288 with 1 Axes>"
      ]
     },
     "metadata": {},
     "output_type": "display_data"
    }
   ],
   "source": [
    "temp = df['premium']\n",
    "premium = temp[int(len(temp)/2):]\n",
    "\n",
    "cumsum = 0\n",
    "cs = []\n",
    "\n",
    "cumsum_h = 0\n",
    "cs_h = []\n",
    "\n",
    "for i in range(len(predicted)):\n",
    "    if predicted[i] == 1:\n",
    "        cumsum += premium[i+884]\n",
    "    else:\n",
    "        cumsum += -1*premium[i+884]\n",
    "        # unblock the above two lines to impose short-selling constraint\n",
    "    cs.append(cumsum)\n",
    "\n",
    "for i in range(len(bull_test)):\n",
    "    cumsum_h += premium[i+884]\n",
    "    cs_h.append(cumsum_h)\n",
    "    \n",
    "plt.figure()\n",
    "plt.plot(cs, label='ML Portfolio Return')\n",
    "plt.plot(cs_h, label='Benchmark Return')\n",
    "plt.legend(loc='best')\n",
    "plt.ylabel('Return ($)')\n",
    "plt.xlabel('Months')\n",
    "plt.show()"
   ]
  },
  {
   "cell_type": "markdown",
   "metadata": {},
   "source": [
    "## Regression (Equity Premium Prediction)"
   ]
  },
  {
   "cell_type": "code",
   "execution_count": 142,
   "metadata": {
    "scrolled": true
   },
   "outputs": [],
   "source": [
    "ret = df.premium\n",
    "x = df.iloc[:,4:]"
   ]
  },
  {
   "cell_type": "markdown",
   "metadata": {},
   "source": [
    "We will first start with the simplest linear regression model. "
   ]
  },
  {
   "cell_type": "code",
   "execution_count": 143,
   "metadata": {
    "scrolled": false
   },
   "outputs": [
    {
     "name": "stderr",
     "output_type": "stream",
     "text": [
      "/anaconda3/lib/python3.6/site-packages/sklearn/cross_validation.py:41: DeprecationWarning: This module was deprecated in version 0.18 in favor of the model_selection module into which all the refactored classes and functions are moved. Also note that the interface of the new CV iterators are different from that of this module. This module will be removed in 0.20.\n",
      "  \"This module will be removed in 0.20.\", DeprecationWarning)\n"
     ]
    },
    {
     "name": "stdout",
     "output_type": "stream",
     "text": [
      "MAE of regression:  0.008048333770433132\n",
      "MAE of hist average:  0.00515315257338971\n",
      "Diff MAE:  -0.0028951811970434217\n",
      "RMSE of regression:  0.00010014956285362834\n",
      "RMSE of hist average:  0.039741222058134955\n",
      "Diff RMSE:  0.03964107249528133\n",
      "adjusted R2: 1.0019532594410034\n",
      "-------------------------------------------------------------------\n",
      "MAE of regression:  0.007740374177464245\n",
      "MAE of hist average:  0.005587463837539477\n",
      "Diff MAE:  -0.002152910339924768\n",
      "RMSE of regression:  9.386462957548477e-05\n",
      "RMSE of hist average:  0.040980263177127774\n",
      "Diff RMSE:  0.040886398547552286\n",
      "adjusted R2: 1.0017049841884225\n",
      "-------------------------------------------------------------------\n",
      "MAE of regression:  0.010514353766484411\n",
      "MAE of hist average:  0.005697696477008201\n",
      "Diff MAE:  -0.004816657289476211\n",
      "RMSE of regression:  0.00019343503779616178\n",
      "RMSE of hist average:  0.04605211021996715\n",
      "Diff RMSE:  0.04585867518217099\n",
      "adjusted R2: 1.0027699005155797\n",
      "-------------------------------------------------------------------\n",
      "MAE of regression:  0.00904529467310396\n",
      "MAE of hist average:  0.005065633839807874\n",
      "Diff MAE:  -0.003979660833296086\n",
      "RMSE of regression:  0.00013902260129058125\n",
      "RMSE of hist average:  0.040025618571566925\n",
      "Diff RMSE:  0.03988659597027634\n",
      "adjusted R2: 1.00275195931517\n",
      "-------------------------------------------------------------------\n",
      "MAE of regression:  0.007989431247970146\n",
      "MAE of hist average:  0.005840597916020638\n",
      "Diff MAE:  -0.002148833331949508\n",
      "RMSE of regression:  9.652124190081015e-05\n",
      "RMSE of hist average:  0.04481924193582679\n",
      "Diff RMSE:  0.04472272069392598\n",
      "adjusted R2: 1.0014766546532778\n",
      "-------------------------------------------------------------------\n",
      "MAE of regression:  0.009214248024801301\n",
      "MAE of hist average:  0.005056398443729396\n",
      "Diff MAE:  -0.004157849581071905\n",
      "RMSE of regression:  0.00015174926043499016\n",
      "RMSE of hist average:  0.04100392460096191\n",
      "Diff RMSE:  0.04085217534052692\n",
      "adjusted R2: 1.002770328139347\n",
      "-------------------------------------------------------------------\n",
      "MAE of regression:  0.009354609921984712\n",
      "MAE of hist average:  0.005066526185353951\n",
      "Diff MAE:  -0.004288083736630761\n",
      "RMSE of regression:  0.00013549348745406999\n",
      "RMSE of hist average:  0.04022061091431747\n",
      "Diff RMSE:  0.0400851174268634\n",
      "adjusted R2: 1.0026126695331663\n",
      "-------------------------------------------------------------------\n",
      "the main take way: Mean(Diff_MAE) is -0.0035 Mean(Diff_RMSE) is 0.0417\n"
     ]
    }
   ],
   "source": [
    "# Here are 67 years of data prior to 2013 \n",
    "# Spilt the data into 7 folds and cross-validate\n",
    "# In each sample we have around 10 years of data\n",
    "\n",
    "pd.options.mode.chained_assignment=None\n",
    "import math\n",
    "from sklearn import linear_model\n",
    "from sklearn.metrics import mean_absolute_error,mean_squared_error, r2_score\n",
    "from sklearn.cross_validation import KFold\n",
    "\n",
    "kf = KFold(x.shape[0],n_folds=7, shuffle=True)\n",
    "\n",
    "\n",
    "diff_MAE = []\n",
    "diff_RMSE = []\n",
    "\n",
    "for train_index, test_index in kf:\n",
    "    x_train, x_test = x.iloc[train_index], x.iloc[test_index]\n",
    "    ret_train, ret_test = ret.iloc[train_index], ret.iloc[test_index]\n",
    "\n",
    "    regr = linear_model.LinearRegression()\n",
    "    regr.fit(x_train, ret_train)\n",
    "\n",
    "    ret_pred = regr.predict(x_test)\n",
    "\n",
    "    \n",
    "    diff = df['his_avg'].iloc[test_index] - df['premium'].iloc[test_index]\n",
    "    mae_avg = diff.abs().sum() / len(train_index)\n",
    "    diff_MAE.append(mae_avg - mean_absolute_error(ret_test, ret_pred))\n",
    "    rmse_avg = math.sqrt(np.power(diff, 2).sum() / len(test_index))\n",
    "    diff_RMSE.append(rmse_avg - mean_squared_error(ret_test, ret_pred))\n",
    "\n",
    "    r_squared = r2_score(ret_test, ret_pred)\n",
    "    adjusted_r_squared = 1 - (1-r_squared)*(len(ret_test)-1)/(len(ret_test)-x_test.shape[1]-1)\n",
    "    \n",
    "    print(\"MAE of regression: \", mean_absolute_error(ret_test, ret_pred))\n",
    "    print(\"MAE of hist average: \", mae_avg)\n",
    "    print(\"Diff MAE: \", mae_avg - mean_absolute_error(ret_test, ret_pred))\n",
    "    print(\"RMSE of regression: \", mean_squared_error(ret_test, ret_pred))\n",
    "    print(\"RMSE of hist average: \", rmse_avg)\n",
    "    print(\"Diff RMSE: \", rmse_avg - mean_squared_error(ret_test, ret_pred))\n",
    "    print(\"adjusted R2:\", adjusted_r_squared)\n",
    "    print(\"-------------------------------------------------------------------\")\n",
    "    \n",
    "print( \"the main take way: Mean(Diff_MAE) is\", round(sum(diff_MAE)/len(diff_MAE),4),\n",
    "      \"Mean(Diff_RMSE) is\", round(sum(diff_RMSE)/len(diff_RMSE),4))"
   ]
  },
  {
   "cell_type": "markdown",
   "metadata": {},
   "source": [
    "## Note:\n",
    "Diff_MAE = MAE of Historical Average - MAE of current method  \n",
    "Diff_MAE is Negative for linear regression: Linear model does a WORSE job on prediction.   \n",
    "Diff_MAE is Positive for ML methods: ML methods beat the benchmark forecast."
   ]
  },
  {
   "cell_type": "markdown",
   "metadata": {},
   "source": [
    "Random Forrest"
   ]
  },
  {
   "cell_type": "code",
   "execution_count": 144,
   "metadata": {
    "scrolled": true
   },
   "outputs": [
    {
     "name": "stderr",
     "output_type": "stream",
     "text": [
      "/anaconda3/lib/python3.6/site-packages/sklearn/ensemble/weight_boosting.py:29: DeprecationWarning: numpy.core.umath_tests is an internal NumPy module and should not be imported. It will be removed in a future NumPy release.\n",
      "  from numpy.core.umath_tests import inner1d\n"
     ]
    },
    {
     "name": "stdout",
     "output_type": "stream",
     "text": [
      "MAE of regression_in:  0.0004684632173754462\n",
      "MAE of regression_out:  0.0008318186605938289\n",
      "MAE of hist average:  0.00515315257338971\n",
      "Diff MAE:  0.0043213339127958815\n",
      "RMSE of regression:  4.233193552916601e-06\n",
      "RMSE of hist average:  0.039741222058134955\n",
      "Diff RMSE:  0.03973698886458204\n",
      "adjusted R2: 1.0000825617709876\n",
      "-------------------------------------------------------------------\n",
      "MAE of regression_in:  0.0005188928816910979\n",
      "MAE of regression_out:  0.0007126055132834755\n",
      "MAE of hist average:  0.005587463837539477\n",
      "Diff MAE:  0.0048748583242560015\n",
      "RMSE of regression:  2.412315378283186e-06\n",
      "RMSE of hist average:  0.040980263177127774\n",
      "Diff RMSE:  0.04097785086174949\n",
      "adjusted R2: 1.0000438179918896\n",
      "-------------------------------------------------------------------\n",
      "MAE of regression_in:  0.0004272013225987866\n",
      "MAE of regression_out:  0.0019163840033902444\n",
      "MAE of hist average:  0.005697696477008201\n",
      "Diff MAE:  0.0037813124736179563\n",
      "RMSE of regression:  0.00010841332366252862\n",
      "RMSE of hist average:  0.04605211021996715\n",
      "Diff RMSE:  0.04594369689630462\n",
      "adjusted R2: 1.0015524287871\n",
      "-------------------------------------------------------------------\n",
      "MAE of regression_in:  0.0005332166130091775\n",
      "MAE of regression_out:  0.000785211644486592\n",
      "MAE of hist average:  0.005065633839807874\n",
      "Diff MAE:  0.0042804221953212825\n",
      "RMSE of regression:  6.157694556254521e-06\n",
      "RMSE of hist average:  0.040025618571566925\n",
      "Diff RMSE:  0.04001946087701067\n",
      "adjusted R2: 1.0001218918703632\n",
      "-------------------------------------------------------------------\n",
      "MAE of regression_in:  0.0006004109199692137\n",
      "MAE of regression_out:  0.0014302234803197284\n",
      "MAE of hist average:  0.005840597916020638\n",
      "Diff MAE:  0.004410374435700909\n",
      "RMSE of regression:  1.7846160888207415e-05\n",
      "RMSE of hist average:  0.04481924193582679\n",
      "Diff RMSE:  0.04480139577493858\n",
      "adjusted R2: 1.0002730240100495\n",
      "-------------------------------------------------------------------\n",
      "MAE of regression_in:  0.0005778989992019438\n",
      "MAE of regression_out:  0.0014235491761705001\n",
      "MAE of hist average:  0.005056398443729396\n",
      "Diff MAE:  0.003632849267558896\n",
      "RMSE of regression:  4.781416561369742e-05\n",
      "RMSE of hist average:  0.04100392460096191\n",
      "Diff RMSE:  0.04095611043534821\n",
      "adjusted R2: 1.0008728934037592\n",
      "-------------------------------------------------------------------\n",
      "MAE of regression_in:  0.0004637569783428734\n",
      "MAE of regression_out:  0.001022581350992022\n",
      "MAE of hist average:  0.005066526185353951\n",
      "Diff MAE:  0.004043944834361929\n",
      "RMSE of regression:  2.8422153459861924e-05\n",
      "RMSE of hist average:  0.04022061091431747\n",
      "Diff RMSE:  0.04019218876085761\n",
      "adjusted R2: 1.0005480536061686\n",
      "-------------------------------------------------------------------\n",
      "the main take way: Mean(Diff_MAE) is 0.0042 Mean(Diff_RMSE) is 0.0418 In-sample avg:  0.0005 Out-sample avg:  0.0012\n"
     ]
    }
   ],
   "source": [
    "pd.options.mode.chained_assignment=None\n",
    "from sklearn.ensemble import RandomForestRegressor\n",
    "\n",
    "diff_MAE = []\n",
    "diff_RMSE = []\n",
    "in_sample = []\n",
    "out_sample = []\n",
    "\n",
    "for train_index, test_index in kf:\n",
    "    x_train, x_test = x.iloc[train_index], x.iloc[test_index]\n",
    "    ret_train, ret_test = ret.iloc[train_index], ret.iloc[test_index]\n",
    "    \n",
    "    regr = RandomForestRegressor(max_depth=25, random_state=0, n_estimators=25)\n",
    "    regr.fit(x_train, ret_train)\n",
    "    \n",
    "    ret_pred = regr.predict(x_test)\n",
    "    ret_fit = regr.predict(x_train)\n",
    "    \n",
    "    diff = df['his_avg'].iloc[test_index] - df['premium'].iloc[test_index]\n",
    "    mae_avg = diff.abs().sum() / len(train_index)\n",
    "    diff_MAE.append(mae_avg - mean_absolute_error(ret_test, ret_pred))\n",
    "    rmse_avg = math.sqrt(np.power(diff, 2).sum() / len(test_index))\n",
    "    diff_RMSE.append(rmse_avg - mean_squared_error(ret_test, ret_pred))\n",
    "\n",
    "    r_squared = r2_score(ret_test, ret_pred)\n",
    "    adjusted_r_squared = 1 - (1-r_squared)*(len(ret_test)-1)/(len(ret_test)-x_test.shape[1]-1)\n",
    "    \n",
    "    in_sample.append(mean_absolute_error(ret_train, ret_fit))\n",
    "    out_sample.append(mean_absolute_error(ret_test, ret_pred))\n",
    "    \n",
    "    print(\"MAE of regression_in: \", mean_absolute_error(ret_train, ret_fit))\n",
    "    print(\"MAE of regression_out: \", mean_absolute_error(ret_test, ret_pred))\n",
    "    print(\"MAE of hist average: \", mae_avg)\n",
    "    print(\"Diff MAE: \", mae_avg - mean_absolute_error(ret_test, ret_pred))\n",
    "    print(\"RMSE of regression: \", mean_squared_error(ret_test, ret_pred))\n",
    "    print(\"RMSE of hist average: \", rmse_avg)\n",
    "    print(\"Diff RMSE: \", rmse_avg - mean_squared_error(ret_test, ret_pred))\n",
    "    print(\"adjusted R2:\", adjusted_r_squared)\n",
    "    print(\"-------------------------------------------------------------------\")\n",
    "    \n",
    "print( \"the main take way: Mean(Diff_MAE) is\", round(sum(diff_MAE)/len(diff_MAE),4),\n",
    "      \"Mean(Diff_RMSE) is\", round(sum(diff_RMSE)/len(diff_RMSE),4), \n",
    "      \"In-sample avg: \", round(sum(in_sample)/len(in_sample),4),\n",
    "      \"Out-sample avg: \", round(sum(out_sample)/len(out_sample),4))"
   ]
  },
  {
   "cell_type": "markdown",
   "metadata": {},
   "source": [
    "Boosted Trees"
   ]
  },
  {
   "cell_type": "code",
   "execution_count": 145,
   "metadata": {},
   "outputs": [
    {
     "name": "stdout",
     "output_type": "stream",
     "text": [
      "MAE of regression:  0.0008857335446538282\n",
      "MAE of hist average:  0.032321670148204605\n",
      "Diff MAE:  0.031435936603550776\n",
      "RMSE of regression:  3.967178712756121e-06\n",
      "RMSE of hist average:  0.04225215916481874\n",
      "Diff RMSE:  0.042248191986105986\n",
      "adjusted R2: 1.000077373570628\n",
      "-------------------------------------------------------------------\n",
      "MAE of regression:  0.0007596410530923491\n",
      "MAE of hist average:  0.03188735888405484\n",
      "Diff MAE:  0.031127717830962492\n",
      "RMSE of regression:  2.1807679260101003e-06\n",
      "RMSE of hist average:  0.042054146292291074\n",
      "Diff RMSE:  0.04205196552436506\n",
      "adjusted R2: 1.0000396120972221\n",
      "-------------------------------------------------------------------\n",
      "MAE of regression:  0.001782416353861496\n",
      "MAE of hist average:  0.03177712624458612\n",
      "Diff MAE:  0.02999470989072462\n",
      "RMSE of regression:  8.339333922440027e-05\n",
      "RMSE of hist average:  0.041168863186441806\n",
      "Diff RMSE:  0.04108546984721741\n",
      "adjusted R2: 1.0011941541508989\n",
      "-------------------------------------------------------------------\n",
      "MAE of regression:  0.0008230675204355262\n",
      "MAE of hist average:  0.03240918888178644\n",
      "Diff MAE:  0.031586121361350916\n",
      "RMSE of regression:  5.277414957451501e-06\n",
      "RMSE of hist average:  0.04220732832902981\n",
      "Diff RMSE:  0.042202050914072364\n",
      "adjusted R2: 1.0001044666918713\n",
      "-------------------------------------------------------------------\n",
      "MAE of regression:  0.0016090069364065366\n",
      "MAE of hist average:  0.03163422480557368\n",
      "Diff MAE:  0.030025217869167144\n",
      "RMSE of regression:  4.1608523985717024e-05\n",
      "RMSE of hist average:  0.04139534350998232\n",
      "Diff RMSE:  0.04135373498599661\n",
      "adjusted R2: 1.0006365585372665\n",
      "-------------------------------------------------------------------\n",
      "MAE of regression:  0.0014383859324833862\n",
      "MAE of hist average:  0.03241842427786493\n",
      "Diff MAE:  0.03098003834538154\n",
      "RMSE of regression:  3.9525653534690576e-05\n",
      "RMSE of hist average:  0.04205029655890334\n",
      "Diff RMSE:  0.04201077090536865\n",
      "adjusted R2: 1.0007215786745804\n",
      "-------------------------------------------------------------------\n",
      "MAE of regression:  0.0010065365941326519\n",
      "MAE of hist average:  0.032353985198962695\n",
      "Diff MAE:  0.03134744860483004\n",
      "RMSE of regression:  1.9112193765569544e-05\n",
      "RMSE of hist average:  0.04217360939986197\n",
      "Diff RMSE:  0.0421544972060964\n",
      "adjusted R2: 1.0003685331841516\n",
      "-------------------------------------------------------------------\n",
      "the main take way: Mean(Diff_MAE) is 0.0309 Mean(Diff_RMSE) is 0.0419\n"
     ]
    }
   ],
   "source": [
    "from sklearn.ensemble import GradientBoostingRegressor\n",
    "\n",
    "diff_MAE = []\n",
    "diff_RMSE = []\n",
    "\n",
    "for train_index, test_index in kf:\n",
    "    x_train, x_test = x.iloc[train_index], x.iloc[test_index]\n",
    "    ret_train, ret_test = ret.iloc[train_index], ret.iloc[test_index]\n",
    "    \n",
    "    regr = GradientBoostingRegressor(n_estimators=25, learning_rate=0.5, max_depth=25, random_state=0, loss='ls')\n",
    "    regr.fit(x_train, ret_train)\n",
    "    \n",
    "    ret_pred = regr.predict(x_test)\n",
    "    \n",
    "    diff = df['his_avg'].iloc[train_index] - df['premium'].iloc[train_index]\n",
    "    mae_avg = diff.abs().sum() / len(train_index)\n",
    "    diff_MAE.append(mae_avg - mean_absolute_error(ret_test, ret_pred))\n",
    "    rmse_avg = math.sqrt(np.power(diff, 2).sum() / len(train_index))\n",
    "    diff_RMSE.append(rmse_avg - mean_squared_error(ret_test, ret_pred))\n",
    "\n",
    "    r_squared = r2_score(ret_test, ret_pred)\n",
    "    adjusted_r_squared = 1 - (1-r_squared)*(len(ret_test)-1)/(len(ret_test)-x_test.shape[1]-1)\n",
    "    \n",
    "    print(\"MAE of regression: \", mean_absolute_error(ret_test, ret_pred))\n",
    "    print(\"MAE of hist average: \", mae_avg)\n",
    "    print(\"Diff MAE: \", mae_avg - mean_absolute_error(ret_test, ret_pred))\n",
    "    print(\"RMSE of regression: \", mean_squared_error(ret_test, ret_pred))\n",
    "    print(\"RMSE of hist average: \", rmse_avg)\n",
    "    print(\"Diff RMSE: \", rmse_avg - mean_squared_error(ret_test, ret_pred))\n",
    "    print(\"adjusted R2:\", adjusted_r_squared)\n",
    "    print(\"-------------------------------------------------------------------\")\n",
    "    \n",
    "print( \"the main take way: Mean(Diff_MAE) is\", round(sum(diff_MAE)/len(diff_MAE),4),\n",
    "      \"Mean(Diff_RMSE) is\", round(sum(diff_RMSE)/len(diff_RMSE),4))"
   ]
  },
  {
   "cell_type": "code",
   "execution_count": null,
   "metadata": {},
   "outputs": [],
   "source": []
  }
 ],
 "metadata": {
  "kernelspec": {
   "display_name": "Python 3",
   "language": "python",
   "name": "python3"
  },
  "language_info": {
   "codemirror_mode": {
    "name": "ipython",
    "version": 3
   },
   "file_extension": ".py",
   "mimetype": "text/x-python",
   "name": "python",
   "nbconvert_exporter": "python",
   "pygments_lexer": "ipython3",
   "version": "3.6.5"
  }
 },
 "nbformat": 4,
 "nbformat_minor": 2
}
