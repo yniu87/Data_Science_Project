{
 "cells": [
  {
   "cell_type": "markdown",
   "metadata": {},
   "source": [
    "# A Machine Learning Approach to Equity Premium Prediction\n",
    "By Shane Johnson (ND CS), Catherine Markley (ND CS), Yuanhao Niu (ND Econ), Nick Rocco (ND CS) \n",
    "<br>-- Fall 2018 CSE 40647/60647 Data Science Project"
   ]
  },
  {
   "cell_type": "markdown",
   "metadata": {},
   "source": [
    "## Introduction\n",
    "We try to use machine learning methods to predict equity premium based on predictors from the seminal paper of Goyal and Welch (2008). \n",
    "\n",
    "We first build and clean our dataset. Then we try to predict bull/bear market as a classification job. Portfolio based on the prediction were constructed accordingly. In a parallel task, we use different regression approaches to predict equity premium. Our models outperforme the historical average forecast. "
   ]
  },
  {
   "cell_type": "markdown",
   "metadata": {},
   "source": [
    "## Data Cleaning\n",
    "\n",
    "Raw data are downloaded from Prof. Goyal's webside. We included their orginal monthly data from 1926/12 to 2013/12."
   ]
  },
  {
   "cell_type": "code",
   "execution_count": 1,
   "metadata": {},
   "outputs": [],
   "source": [
    "import pandas as pd\n",
    "import numpy as np\n",
    "df = pd.read_csv(\"raw_predictors_until2013.csv\")"
   ]
  },
  {
   "cell_type": "markdown",
   "metadata": {},
   "source": [
    "Generate the predictors based on the raw data, as in Welch and Goyal (2008)"
   ]
  },
  {
   "cell_type": "code",
   "execution_count": 2,
   "metadata": {},
   "outputs": [],
   "source": [
    "# equity premium, i.e., the total rate of return on the stock market minus the prevailing short-term interest rate.\n",
    "df['premium'] = df['CRSP_SPvw'] - df['Rfree']\n",
    "\n",
    "# Dividend Price Ratio (d/p) is the difference between the log of dividends and the log of prices. \n",
    "df['d/p'] = np.log(df['D12']) - np.log(df['Index'])\n",
    "\n",
    "# Dividend Yield (d/y) is the difference between the log of dividends and the log of lagged prices.\n",
    "df['d/y'] = np.log(df['D12'])- np.log(df['Index'].shift(1))\n",
    "\n",
    "# Earnings Price Ratio (e/p) is the difference between the log of earnings and the log of prices.\n",
    "df['e/p'] = np.log(df['E12']) - np.log(df['Index'])\n",
    "\n",
    "# Dividend Payout Ratio (d/e) is the difference between the log of dividends and the log of earnings.\n",
    "df['d/e'] = np.log(df['D12']) - np.log(df['E12'])\n",
    "\n",
    "# Term Spread (tms) is the difference between the long term yield on government bonds and the T-bill.\n",
    "df['tms'] = df['lty'] - df['tbl']\n",
    "\n",
    "# Default Yield Spread (dfy): is the difference between BAA- and AAA- rated cor- porate bond yields.\n",
    "df['dfy'] = df['BAA'] - df['AAA']\n",
    "\n",
    "# Default Return Spread (dfr): is the difference between the return on long-term corporate bonds and returns on the long-term government bonds.\n",
    "df['dfr'] = df['corpr'] - df['ltr']"
   ]
  },
  {
   "cell_type": "code",
   "execution_count": 3,
   "metadata": {
    "scrolled": true
   },
   "outputs": [],
   "source": [
    "# drop the first observation for 1926/12 (used it to calculate lagged value)\n",
    "df = df[1:]"
   ]
  },
  {
   "cell_type": "markdown",
   "metadata": {},
   "source": [
    "We generate indicators for bull market."
   ]
  },
  {
   "cell_type": "code",
   "execution_count": 4,
   "metadata": {},
   "outputs": [],
   "source": [
    "sLength = len(df['yyyymm'])\n",
    "# add the bullMarket column with random ints (to be replaced in next cell)\n",
    "df['bull'] = pd.Series(np.random.randn(sLength), index=df.index)\n",
    "# Create bullMarkert for ret\n",
    "bull = []\n",
    "for d in df['CRSP_SPvw']:\n",
    "    if d > 0:\n",
    "        bull.append(1)\n",
    "    else:\n",
    "        bull.append(0)\n",
    "df['bull'] = bull"
   ]
  },
  {
   "cell_type": "code",
   "execution_count": 5,
   "metadata": {},
   "outputs": [],
   "source": [
    "# drop the redundent variables\n",
    "df = df.drop(columns=['Index','D12', 'E12', 'AAA', 'BAA', 'CRSP_SPvwx', 'corpr','Rfree', 'CRSP_SPvw'])"
   ]
  },
  {
   "cell_type": "code",
   "execution_count": 6,
   "metadata": {},
   "outputs": [],
   "source": [
    "# The Cross-Sectional Premium (csp) was only available from May 1937 to December 2002. \n",
    "# We compute the average of the data and fill the missing values with the average value.\n",
    "pd.options.mode.chained_assignment=None\n",
    "df['csp'][0:124] = df['csp'][124:911].mean()\n",
    "df['csp'][912:]  = df['csp'][124:911].mean()"
   ]
  },
  {
   "cell_type": "markdown",
   "metadata": {},
   "source": [
    "We calculate the benchmark (historical average) prediction"
   ]
  },
  {
   "cell_type": "code",
   "execution_count": 7,
   "metadata": {},
   "outputs": [],
   "source": [
    "premium = 0\n",
    "count = 0\n",
    "\n",
    "temp = df['premium']\n",
    "\n",
    "his_avg = []\n",
    "\n",
    "for i in temp:\n",
    "    premium += i\n",
    "    count += 1\n",
    "    his_avg.append(premium/count)\n",
    "\n",
    "df['his_avg'] = his_avg"
   ]
  },
  {
   "cell_type": "markdown",
   "metadata": {},
   "source": [
    "Now we had the CONTEMPORANEOUS dataset to work on!"
   ]
  },
  {
   "cell_type": "code",
   "execution_count": 8,
   "metadata": {
    "scrolled": true
   },
   "outputs": [
    {
     "data": {
      "text/html": [
       "<div>\n",
       "<style scoped>\n",
       "    .dataframe tbody tr th:only-of-type {\n",
       "        vertical-align: middle;\n",
       "    }\n",
       "\n",
       "    .dataframe tbody tr th {\n",
       "        vertical-align: top;\n",
       "    }\n",
       "\n",
       "    .dataframe thead th {\n",
       "        text-align: right;\n",
       "    }\n",
       "</style>\n",
       "<table border=\"1\" class=\"dataframe\">\n",
       "  <thead>\n",
       "    <tr style=\"text-align: right;\">\n",
       "      <th></th>\n",
       "      <th>yyyymm</th>\n",
       "      <th>Month</th>\n",
       "      <th>his_avg</th>\n",
       "      <th>bull</th>\n",
       "      <th>premium</th>\n",
       "      <th>d/p</th>\n",
       "      <th>d/y</th>\n",
       "      <th>e/p</th>\n",
       "      <th>d/e</th>\n",
       "      <th>svar</th>\n",
       "      <th>csp</th>\n",
       "      <th>b/m</th>\n",
       "      <th>ntis</th>\n",
       "      <th>tbl</th>\n",
       "      <th>lty</th>\n",
       "      <th>ltr</th>\n",
       "      <th>tms</th>\n",
       "      <th>dfy</th>\n",
       "      <th>dfr</th>\n",
       "      <th>infl</th>\n",
       "    </tr>\n",
       "  </thead>\n",
       "  <tbody>\n",
       "    <tr>\n",
       "      <th>1</th>\n",
       "      <td>192701</td>\n",
       "      <td>1</td>\n",
       "      <td>-0.005602</td>\n",
       "      <td>0</td>\n",
       "      <td>-0.005602</td>\n",
       "      <td>-2.942374</td>\n",
       "      <td>-2.963349</td>\n",
       "      <td>-2.374773</td>\n",
       "      <td>-0.567601</td>\n",
       "      <td>0.000470</td>\n",
       "      <td>0.00037</td>\n",
       "      <td>0.443706</td>\n",
       "      <td>0.050834</td>\n",
       "      <td>0.0323</td>\n",
       "      <td>0.0351</td>\n",
       "      <td>0.0075</td>\n",
       "      <td>0.0028</td>\n",
       "      <td>0.0095</td>\n",
       "      <td>-0.0019</td>\n",
       "      <td>-0.011299</td>\n",
       "    </tr>\n",
       "    <tr>\n",
       "      <th>2</th>\n",
       "      <td>192702</td>\n",
       "      <td>2</td>\n",
       "      <td>0.018589</td>\n",
       "      <td>1</td>\n",
       "      <td>0.042780</td>\n",
       "      <td>-2.979535</td>\n",
       "      <td>-2.932946</td>\n",
       "      <td>-2.430353</td>\n",
       "      <td>-0.549182</td>\n",
       "      <td>0.000287</td>\n",
       "      <td>0.00037</td>\n",
       "      <td>0.428501</td>\n",
       "      <td>0.051682</td>\n",
       "      <td>0.0329</td>\n",
       "      <td>0.0347</td>\n",
       "      <td>0.0088</td>\n",
       "      <td>0.0018</td>\n",
       "      <td>0.0092</td>\n",
       "      <td>-0.0019</td>\n",
       "      <td>-0.005714</td>\n",
       "    </tr>\n",
       "    <tr>\n",
       "      <th>3</th>\n",
       "      <td>192703</td>\n",
       "      <td>3</td>\n",
       "      <td>0.013945</td>\n",
       "      <td>1</td>\n",
       "      <td>0.004657</td>\n",
       "      <td>-2.976535</td>\n",
       "      <td>-2.970053</td>\n",
       "      <td>-2.445079</td>\n",
       "      <td>-0.531456</td>\n",
       "      <td>0.000924</td>\n",
       "      <td>0.00037</td>\n",
       "      <td>0.469765</td>\n",
       "      <td>0.046370</td>\n",
       "      <td>0.0320</td>\n",
       "      <td>0.0331</td>\n",
       "      <td>0.0253</td>\n",
       "      <td>0.0011</td>\n",
       "      <td>0.0092</td>\n",
       "      <td>-0.0170</td>\n",
       "      <td>-0.005747</td>\n",
       "    </tr>\n",
       "    <tr>\n",
       "      <th>4</th>\n",
       "      <td>192704</td>\n",
       "      <td>4</td>\n",
       "      <td>0.013008</td>\n",
       "      <td>1</td>\n",
       "      <td>0.010196</td>\n",
       "      <td>-2.984225</td>\n",
       "      <td>-2.967143</td>\n",
       "      <td>-2.471309</td>\n",
       "      <td>-0.512916</td>\n",
       "      <td>0.000603</td>\n",
       "      <td>0.00037</td>\n",
       "      <td>0.456754</td>\n",
       "      <td>0.050518</td>\n",
       "      <td>0.0339</td>\n",
       "      <td>0.0333</td>\n",
       "      <td>-0.0005</td>\n",
       "      <td>-0.0006</td>\n",
       "      <td>0.0090</td>\n",
       "      <td>0.0060</td>\n",
       "      <td>0.000000</td>\n",
       "    </tr>\n",
       "    <tr>\n",
       "      <th>5</th>\n",
       "      <td>192705</td>\n",
       "      <td>5</td>\n",
       "      <td>0.022322</td>\n",
       "      <td>1</td>\n",
       "      <td>0.059578</td>\n",
       "      <td>-3.025963</td>\n",
       "      <td>-2.975058</td>\n",
       "      <td>-2.531446</td>\n",
       "      <td>-0.494518</td>\n",
       "      <td>0.000392</td>\n",
       "      <td>0.00037</td>\n",
       "      <td>0.434783</td>\n",
       "      <td>0.055279</td>\n",
       "      <td>0.0333</td>\n",
       "      <td>0.0327</td>\n",
       "      <td>0.0109</td>\n",
       "      <td>-0.0006</td>\n",
       "      <td>0.0093</td>\n",
       "      <td>-0.0120</td>\n",
       "      <td>0.005780</td>\n",
       "    </tr>\n",
       "  </tbody>\n",
       "</table>\n",
       "</div>"
      ],
      "text/plain": [
       "   yyyymm  Month   his_avg  bull   premium       d/p       d/y       e/p  \\\n",
       "1  192701      1 -0.005602     0 -0.005602 -2.942374 -2.963349 -2.374773   \n",
       "2  192702      2  0.018589     1  0.042780 -2.979535 -2.932946 -2.430353   \n",
       "3  192703      3  0.013945     1  0.004657 -2.976535 -2.970053 -2.445079   \n",
       "4  192704      4  0.013008     1  0.010196 -2.984225 -2.967143 -2.471309   \n",
       "5  192705      5  0.022322     1  0.059578 -3.025963 -2.975058 -2.531446   \n",
       "\n",
       "        d/e      svar      csp       b/m      ntis     tbl     lty     ltr  \\\n",
       "1 -0.567601  0.000470  0.00037  0.443706  0.050834  0.0323  0.0351  0.0075   \n",
       "2 -0.549182  0.000287  0.00037  0.428501  0.051682  0.0329  0.0347  0.0088   \n",
       "3 -0.531456  0.000924  0.00037  0.469765  0.046370  0.0320  0.0331  0.0253   \n",
       "4 -0.512916  0.000603  0.00037  0.456754  0.050518  0.0339  0.0333 -0.0005   \n",
       "5 -0.494518  0.000392  0.00037  0.434783  0.055279  0.0333  0.0327  0.0109   \n",
       "\n",
       "      tms     dfy     dfr      infl  \n",
       "1  0.0028  0.0095 -0.0019 -0.011299  \n",
       "2  0.0018  0.0092 -0.0019 -0.005714  \n",
       "3  0.0011  0.0092 -0.0170 -0.005747  \n",
       "4 -0.0006  0.0090  0.0060  0.000000  \n",
       "5 -0.0006  0.0093 -0.0120  0.005780  "
      ]
     },
     "execution_count": 8,
     "metadata": {},
     "output_type": "execute_result"
    }
   ],
   "source": [
    "# reorganize the dataframe\n",
    "df = df[['yyyymm','Month','his_avg','bull','premium','d/p','d/y','e/p','d/e','svar',\n",
    "          'csp','b/m','ntis','tbl','lty','ltr','tms','dfy','dfr','infl']]\n",
    "df.head(5)"
   ]
  },
  {
   "cell_type": "markdown",
   "metadata": {},
   "source": [
    "Plot the heatmap of feature correlation"
   ]
  },
  {
   "cell_type": "code",
   "execution_count": 10,
   "metadata": {
    "scrolled": true
   },
   "outputs": [
    {
     "data": {
      "text/plain": [
       "<matplotlib.axes._subplots.AxesSubplot at 0x1a260f4dd8>"
      ]
     },
     "execution_count": 10,
     "metadata": {},
     "output_type": "execute_result"
    },
    {
     "data": {
      "image/png": "[encoded data removed]",
      "text/plain": [
       "<Figure size 792x648 with 2 Axes>"
      ]
     },
     "metadata": {},
     "output_type": "display_data"
    }
   ],
   "source": [
    "features = df[['premium','d/p','d/y','e/p','d/e','svar',\n",
    "          'csp','b/m','ntis','tbl','lty','ltr','tms','dfy','dfr','infl']]\n",
    "\n",
    "corr = features.corr()\n",
    "\n",
    "import seaborn as sns\n",
    "import matplotlib.pyplot as plt\n",
    "\n",
    "# Generate a mask for the upper triangle\n",
    "mask = np.zeros_like(corr, dtype=np.bool)\n",
    "mask[np.triu_indices_from(mask)] = True\n",
    "\n",
    "# Set up the matplotlib figure\n",
    "f, ax = plt.subplots(figsize=(11, 9))\n",
    "\n",
    "# Generate a custom diverging colormap\n",
    "cmap = sns.diverging_palette(220, 10, as_cmap=True)\n",
    "\n",
    "# Draw the heatmap with the mask and correct aspect ratio\n",
    "sns.heatmap(corr, mask=mask, cmap=cmap, vmax=.3, center=0,\n",
    "            square=True, linewidths=.5, cbar_kws={\"shrink\": .5})"
   ]
  },
  {
   "cell_type": "markdown",
   "metadata": {},
   "source": [
    "We make a forecst of t+1 period label conditioning on all the avaiable information at t."
   ]
  },
  {
   "cell_type": "code",
   "execution_count": 11,
   "metadata": {},
   "outputs": [],
   "source": [
    "past = 2\n",
    "\n",
    "num = len(df.columns)\n",
    "for i in range(4,num):\n",
    "    name = df.columns[i]\n",
    "    for j in range(1,past):\n",
    "        t = str(j)\n",
    "        df[name+\"-\"+t] = df[name].shift(j)"
   ]
  },
  {
   "cell_type": "code",
   "execution_count": 12,
   "metadata": {
    "scrolled": true
   },
   "outputs": [],
   "source": [
    "# drop the first period predictors\n",
    "df = df[past-1:]"
   ]
  },
  {
   "cell_type": "code",
   "execution_count": 13,
   "metadata": {
    "scrolled": true
   },
   "outputs": [],
   "source": [
    "# drop the contemporanous predictors\n",
    "df = df.drop(columns=['d/p','d/y','e/p','d/e','svar',\n",
    "          'csp','b/m','ntis','tbl','lty','ltr','tms','dfy','dfr','infl'])"
   ]
  },
  {
   "cell_type": "code",
   "execution_count": 14,
   "metadata": {
    "scrolled": true
   },
   "outputs": [
    {
     "data": {
      "text/plain": [
       "21"
      ]
     },
     "execution_count": 14,
     "metadata": {},
     "output_type": "execute_result"
    }
   ],
   "source": [
    "# column number 3845: 'yyyymm','Month',‘his_avg’，'bull','premium' + 16 indicator \n",
    "len(df.columns)"
   ]
  },
  {
   "cell_type": "code",
   "execution_count": 15,
   "metadata": {},
   "outputs": [
    {
     "data": {
      "text/html": [
       "<div>\n",
       "<style scoped>\n",
       "    .dataframe tbody tr th:only-of-type {\n",
       "        vertical-align: middle;\n",
       "    }\n",
       "\n",
       "    .dataframe tbody tr th {\n",
       "        vertical-align: top;\n",
       "    }\n",
       "\n",
       "    .dataframe thead th {\n",
       "        text-align: right;\n",
       "    }\n",
       "</style>\n",
       "<table border=\"1\" class=\"dataframe\">\n",
       "  <thead>\n",
       "    <tr style=\"text-align: right;\">\n",
       "      <th></th>\n",
       "      <th>yyyymm</th>\n",
       "      <th>Month</th>\n",
       "      <th>his_avg</th>\n",
       "      <th>bull</th>\n",
       "      <th>premium</th>\n",
       "      <th>premium-1</th>\n",
       "      <th>d/p-1</th>\n",
       "      <th>d/y-1</th>\n",
       "      <th>e/p-1</th>\n",
       "      <th>d/e-1</th>\n",
       "      <th>...</th>\n",
       "      <th>csp-1</th>\n",
       "      <th>b/m-1</th>\n",
       "      <th>ntis-1</th>\n",
       "      <th>tbl-1</th>\n",
       "      <th>lty-1</th>\n",
       "      <th>ltr-1</th>\n",
       "      <th>tms-1</th>\n",
       "      <th>dfy-1</th>\n",
       "      <th>dfr-1</th>\n",
       "      <th>infl-1</th>\n",
       "    </tr>\n",
       "  </thead>\n",
       "  <tbody>\n",
       "    <tr>\n",
       "      <th>2</th>\n",
       "      <td>192702</td>\n",
       "      <td>2</td>\n",
       "      <td>0.018589</td>\n",
       "      <td>1</td>\n",
       "      <td>0.042780</td>\n",
       "      <td>-0.005602</td>\n",
       "      <td>-2.942374</td>\n",
       "      <td>-2.963349</td>\n",
       "      <td>-2.374773</td>\n",
       "      <td>-0.567601</td>\n",
       "      <td>...</td>\n",
       "      <td>0.00037</td>\n",
       "      <td>0.443706</td>\n",
       "      <td>0.050834</td>\n",
       "      <td>0.0323</td>\n",
       "      <td>0.0351</td>\n",
       "      <td>0.0075</td>\n",
       "      <td>0.0028</td>\n",
       "      <td>0.0095</td>\n",
       "      <td>-0.0019</td>\n",
       "      <td>-0.011299</td>\n",
       "    </tr>\n",
       "    <tr>\n",
       "      <th>3</th>\n",
       "      <td>192703</td>\n",
       "      <td>3</td>\n",
       "      <td>0.013945</td>\n",
       "      <td>1</td>\n",
       "      <td>0.004657</td>\n",
       "      <td>0.042780</td>\n",
       "      <td>-2.979535</td>\n",
       "      <td>-2.932946</td>\n",
       "      <td>-2.430353</td>\n",
       "      <td>-0.549182</td>\n",
       "      <td>...</td>\n",
       "      <td>0.00037</td>\n",
       "      <td>0.428501</td>\n",
       "      <td>0.051682</td>\n",
       "      <td>0.0329</td>\n",
       "      <td>0.0347</td>\n",
       "      <td>0.0088</td>\n",
       "      <td>0.0018</td>\n",
       "      <td>0.0092</td>\n",
       "      <td>-0.0019</td>\n",
       "      <td>-0.005714</td>\n",
       "    </tr>\n",
       "    <tr>\n",
       "      <th>4</th>\n",
       "      <td>192704</td>\n",
       "      <td>4</td>\n",
       "      <td>0.013008</td>\n",
       "      <td>1</td>\n",
       "      <td>0.010196</td>\n",
       "      <td>0.004657</td>\n",
       "      <td>-2.976535</td>\n",
       "      <td>-2.970053</td>\n",
       "      <td>-2.445079</td>\n",
       "      <td>-0.531456</td>\n",
       "      <td>...</td>\n",
       "      <td>0.00037</td>\n",
       "      <td>0.469765</td>\n",
       "      <td>0.046370</td>\n",
       "      <td>0.0320</td>\n",
       "      <td>0.0331</td>\n",
       "      <td>0.0253</td>\n",
       "      <td>0.0011</td>\n",
       "      <td>0.0092</td>\n",
       "      <td>-0.0170</td>\n",
       "      <td>-0.005747</td>\n",
       "    </tr>\n",
       "    <tr>\n",
       "      <th>5</th>\n",
       "      <td>192705</td>\n",
       "      <td>5</td>\n",
       "      <td>0.022322</td>\n",
       "      <td>1</td>\n",
       "      <td>0.059578</td>\n",
       "      <td>0.010196</td>\n",
       "      <td>-2.984225</td>\n",
       "      <td>-2.967143</td>\n",
       "      <td>-2.471309</td>\n",
       "      <td>-0.512916</td>\n",
       "      <td>...</td>\n",
       "      <td>0.00037</td>\n",
       "      <td>0.456754</td>\n",
       "      <td>0.050518</td>\n",
       "      <td>0.0339</td>\n",
       "      <td>0.0333</td>\n",
       "      <td>-0.0005</td>\n",
       "      <td>-0.0006</td>\n",
       "      <td>0.0090</td>\n",
       "      <td>0.0060</td>\n",
       "      <td>0.000000</td>\n",
       "    </tr>\n",
       "    <tr>\n",
       "      <th>6</th>\n",
       "      <td>192706</td>\n",
       "      <td>6</td>\n",
       "      <td>0.014780</td>\n",
       "      <td>0</td>\n",
       "      <td>-0.022928</td>\n",
       "      <td>0.059578</td>\n",
       "      <td>-3.025963</td>\n",
       "      <td>-2.975058</td>\n",
       "      <td>-2.531446</td>\n",
       "      <td>-0.494518</td>\n",
       "      <td>...</td>\n",
       "      <td>0.00037</td>\n",
       "      <td>0.434783</td>\n",
       "      <td>0.055279</td>\n",
       "      <td>0.0333</td>\n",
       "      <td>0.0327</td>\n",
       "      <td>0.0109</td>\n",
       "      <td>-0.0006</td>\n",
       "      <td>0.0093</td>\n",
       "      <td>-0.0120</td>\n",
       "      <td>0.005780</td>\n",
       "    </tr>\n",
       "  </tbody>\n",
       "</table>\n",
       "<p>5 rows × 21 columns</p>\n",
       "</div>"
      ],
      "text/plain": [
       "   yyyymm  Month   his_avg  bull   premium  premium-1     d/p-1     d/y-1  \\\n",
       "2  192702      2  0.018589     1  0.042780  -0.005602 -2.942374 -2.963349   \n",
       "3  192703      3  0.013945     1  0.004657   0.042780 -2.979535 -2.932946   \n",
       "4  192704      4  0.013008     1  0.010196   0.004657 -2.976535 -2.970053   \n",
       "5  192705      5  0.022322     1  0.059578   0.010196 -2.984225 -2.967143   \n",
       "6  192706      6  0.014780     0 -0.022928   0.059578 -3.025963 -2.975058   \n",
       "\n",
       "      e/p-1     d/e-1    ...       csp-1     b/m-1    ntis-1   tbl-1   lty-1  \\\n",
       "2 -2.374773 -0.567601    ...     0.00037  0.443706  0.050834  0.0323  0.0351   \n",
       "3 -2.430353 -0.549182    ...     0.00037  0.428501  0.051682  0.0329  0.0347   \n",
       "4 -2.445079 -0.531456    ...     0.00037  0.469765  0.046370  0.0320  0.0331   \n",
       "5 -2.471309 -0.512916    ...     0.00037  0.456754  0.050518  0.0339  0.0333   \n",
       "6 -2.531446 -0.494518    ...     0.00037  0.434783  0.055279  0.0333  0.0327   \n",
       "\n",
       "    ltr-1   tms-1   dfy-1   dfr-1    infl-1  \n",
       "2  0.0075  0.0028  0.0095 -0.0019 -0.011299  \n",
       "3  0.0088  0.0018  0.0092 -0.0019 -0.005714  \n",
       "4  0.0253  0.0011  0.0092 -0.0170 -0.005747  \n",
       "5 -0.0005 -0.0006  0.0090  0.0060  0.000000  \n",
       "6  0.0109 -0.0006  0.0093 -0.0120  0.005780  \n",
       "\n",
       "[5 rows x 21 columns]"
      ]
     },
     "execution_count": 15,
     "metadata": {},
     "output_type": "execute_result"
    }
   ],
   "source": [
    "# now the features include the past 20 years observations\n",
    "df.head(5)"
   ]
  },
  {
   "cell_type": "markdown",
   "metadata": {},
   "source": [
    "Here we plot the distribution of the equity premium. The returns are left-skewed (i.e. negative skewness)."
   ]
  },
  {
   "cell_type": "code",
   "execution_count": 16,
   "metadata": {},
   "outputs": [
    {
     "data": {
      "image/png": "[encoded data removed]",
      "text/plain": [
       "<Figure size 432x288 with 1 Axes>"
      ]
     },
     "metadata": {},
     "output_type": "display_data"
    }
   ],
   "source": [
    "hist = df[\"premium\"].hist(bins=20)"
   ]
  },
  {
   "cell_type": "markdown",
   "metadata": {},
   "source": [
    "## Classification (Bull Market Prediction)"
   ]
  },
  {
   "cell_type": "markdown",
   "metadata": {},
   "source": [
    "For classification purpose, we first normalize the features "
   ]
  },
  {
   "cell_type": "code",
   "execution_count": 17,
   "metadata": {
    "scrolled": true
   },
   "outputs": [],
   "source": [
    "bull = df.bull\n",
    "x = df.iloc[:,5:]\n",
    "norm_x = (x- x.mean())/x.std(ddof=0)"
   ]
  },
  {
   "cell_type": "markdown",
   "metadata": {},
   "source": [
    "We use the first half as training data and the second half as testing data"
   ]
  },
  {
   "cell_type": "code",
   "execution_count": 18,
   "metadata": {},
   "outputs": [],
   "source": [
    "norm_x_train = norm_x[0:int(0.8*len(norm_x))]\n",
    "norm_x_test = norm_x[int(0.8*len(norm_x)):]\n",
    "bull_train = bull[0:int(0.8*len(norm_x))]\n",
    "bull_test = bull[int(0.8*len(norm_x)):]"
   ]
  },
  {
   "cell_type": "markdown",
   "metadata": {},
   "source": [
    "Decision tree (CART algorithm_C4.5) "
   ]
  },
  {
   "cell_type": "code",
   "execution_count": 19,
   "metadata": {},
   "outputs": [
    {
     "name": "stdout",
     "output_type": "stream",
     "text": [
      "Confusion Matrix:  \n",
      " [True Negative , False Positive \n",
      " False Negative, True Positive] \n",
      " [[32 48]\n",
      " [47 82]]\n",
      "precision:  0.6308\n",
      "recall:  0.6357\n"
     ]
    }
   ],
   "source": [
    "from sklearn import tree\n",
    "from sklearn.metrics import confusion_matrix\n",
    "import matplotlib.pyplot as plt\n",
    "\n",
    "\n",
    "clf = tree.DecisionTreeClassifier(max_depth=10)\n",
    "clf = clf.fit(norm_x_train, bull_train)\n",
    "predicted = clf.predict(norm_x_test)\n",
    "c_matrix = confusion_matrix(predicted,bull_test)\n",
    "\n",
    "# precision = True Positive/(True Positive + False Positive)\n",
    "precision = c_matrix[1,1]/(c_matrix[1,1]+c_matrix[0,1])\n",
    "# Recall = True Positive/(True Positive + False Negative)\n",
    "recall= c_matrix[1,1]/(c_matrix[1,1]+c_matrix[1,0])\n",
    "\n",
    "print(\"Confusion Matrix: \" ,\"\\n\" ,\"[True Negative , False Positive\", \"\\n\",\"False Negative, True Positive]\", \"\\n\" ,c_matrix)  \n",
    "\n",
    "print(\"precision: \", round(precision,4))  \n",
    "print(\"recall: \", round(recall,4))  "
   ]
  },
  {
   "cell_type": "code",
   "execution_count": 20,
   "metadata": {
    "scrolled": true
   },
   "outputs": [
    {
     "data": {
      "image/svg+xml": [
       "<?xml version=\"1.0\" encoding=\"UTF-8\" standalone=\"no\"?>\n",
       "<!DOCTYPE svg PUBLIC \"-//W3C//DTD SVG 1.1//EN\"\n",
       " \"http://www.w3.org/Graphics/SVG/1.1/DTD/svg11.dtd\">\n",
       "<!-- Generated by graphviz version 2.40.1 (20161225.0304)\n",
       " -->\n",
       "<!-- Title: Tree Pages: 1 -->\n",
       "<svg width=\"566pt\" height=\"401pt\"\n",
       " viewBox=\"0.00 0.00 566.00 401.00\" xmlns=\"http://www.w3.org/2000/svg\" xmlns:xlink=\"http://www.w3.org/1999/xlink\">\n",
       "<g id=\"graph0\" class=\"graph\" transform=\"scale(1 1) rotate(0) translate(4 397)\">\n",
       "<title>Tree</title>\n",
       "<polygon fill=\"#ffffff\" stroke=\"transparent\" points=\"-4,4 -4,-397 562,-397 562,4 -4,4\"/>\n",
       "<!-- 0 -->\n",
       "<g id=\"node1\" class=\"node\">\n",
       "<title>0</title>\n",
       "<path fill=\"#399de5\" fill-opacity=\"0.372549\" stroke=\"#000000\" d=\"M312,-393C312,-393 236,-393 236,-393 230,-393 224,-387 224,-381 224,-381 224,-322 224,-322 224,-316 230,-310 236,-310 236,-310 312,-310 312,-310 318,-310 324,-316 324,-322 324,-322 324,-381 324,-381 324,-387 318,-393 312,-393\"/>\n",
       "<text text-anchor=\"middle\" x=\"274\" y=\"-377.8\" font-family=\"Helvetica,sans-Serif\" font-size=\"14.00\" fill=\"#000000\">infl &lt;= 0.798</text>\n",
       "<text text-anchor=\"middle\" x=\"274\" y=\"-362.8\" font-family=\"Helvetica,sans-Serif\" font-size=\"14.00\" fill=\"#000000\">gini = 0.474</text>\n",
       "<text text-anchor=\"middle\" x=\"274\" y=\"-347.8\" font-family=\"Helvetica,sans-Serif\" font-size=\"14.00\" fill=\"#000000\">samples = 834</text>\n",
       "<text text-anchor=\"middle\" x=\"274\" y=\"-332.8\" font-family=\"Helvetica,sans-Serif\" font-size=\"14.00\" fill=\"#000000\">value = [321, 513]</text>\n",
       "<text text-anchor=\"middle\" x=\"274\" y=\"-317.8\" font-family=\"Helvetica,sans-Serif\" font-size=\"14.00\" fill=\"#000000\">class = bear</text>\n",
       "</g>\n",
       "<!-- 1 -->\n",
       "<g id=\"node2\" class=\"node\">\n",
       "<title>1</title>\n",
       "<path fill=\"#399de5\" fill-opacity=\"0.450980\" stroke=\"#000000\" d=\"M254,-274C254,-274 178,-274 178,-274 172,-274 166,-268 166,-262 166,-262 166,-203 166,-203 166,-197 172,-191 178,-191 178,-191 254,-191 254,-191 260,-191 266,-197 266,-203 266,-203 266,-262 266,-262 266,-268 260,-274 254,-274\"/>\n",
       "<text text-anchor=\"middle\" x=\"216\" y=\"-258.8\" font-family=\"Helvetica,sans-Serif\" font-size=\"14.00\" fill=\"#000000\">d/e &lt;= 0.726</text>\n",
       "<text text-anchor=\"middle\" x=\"216\" y=\"-243.8\" font-family=\"Helvetica,sans-Serif\" font-size=\"14.00\" fill=\"#000000\">gini = 0.458</text>\n",
       "<text text-anchor=\"middle\" x=\"216\" y=\"-228.8\" font-family=\"Helvetica,sans-Serif\" font-size=\"14.00\" fill=\"#000000\">samples = 690</text>\n",
       "<text text-anchor=\"middle\" x=\"216\" y=\"-213.8\" font-family=\"Helvetica,sans-Serif\" font-size=\"14.00\" fill=\"#000000\">value = [245, 445]</text>\n",
       "<text text-anchor=\"middle\" x=\"216\" y=\"-198.8\" font-family=\"Helvetica,sans-Serif\" font-size=\"14.00\" fill=\"#000000\">class = bear</text>\n",
       "</g>\n",
       "<!-- 0&#45;&gt;1 -->\n",
       "<g id=\"edge1\" class=\"edge\">\n",
       "<title>0&#45;&gt;1</title>\n",
       "<path fill=\"none\" stroke=\"#000000\" d=\"M253.7144,-309.8796C249.5443,-301.3236 245.1091,-292.2238 240.8003,-283.3833\"/>\n",
       "<polygon fill=\"#000000\" stroke=\"#000000\" points=\"243.8997,-281.7538 236.3722,-274.2981 237.6073,-284.8207 243.8997,-281.7538\"/>\n",
       "<text text-anchor=\"middle\" x=\"228.2265\" y=\"-294.2338\" font-family=\"Helvetica,sans-Serif\" font-size=\"14.00\" fill=\"#000000\">True</text>\n",
       "</g>\n",
       "<!-- 140 -->\n",
       "<g id=\"node9\" class=\"node\">\n",
       "<title>140</title>\n",
       "<path fill=\"#e58139\" fill-opacity=\"0.105882\" stroke=\"#000000\" d=\"M373.5,-274C373.5,-274 308.5,-274 308.5,-274 302.5,-274 296.5,-268 296.5,-262 296.5,-262 296.5,-203 296.5,-203 296.5,-197 302.5,-191 308.5,-191 308.5,-191 373.5,-191 373.5,-191 379.5,-191 385.5,-197 385.5,-203 385.5,-203 385.5,-262 385.5,-262 385.5,-268 379.5,-274 373.5,-274\"/>\n",
       "<text text-anchor=\"middle\" x=\"341\" y=\"-258.8\" font-family=\"Helvetica,sans-Serif\" font-size=\"14.00\" fill=\"#000000\">e/p &lt;= 1.634</text>\n",
       "<text text-anchor=\"middle\" x=\"341\" y=\"-243.8\" font-family=\"Helvetica,sans-Serif\" font-size=\"14.00\" fill=\"#000000\">gini = 0.498</text>\n",
       "<text text-anchor=\"middle\" x=\"341\" y=\"-228.8\" font-family=\"Helvetica,sans-Serif\" font-size=\"14.00\" fill=\"#000000\">samples = 144</text>\n",
       "<text text-anchor=\"middle\" x=\"341\" y=\"-213.8\" font-family=\"Helvetica,sans-Serif\" font-size=\"14.00\" fill=\"#000000\">value = [76, 68]</text>\n",
       "<text text-anchor=\"middle\" x=\"341\" y=\"-198.8\" font-family=\"Helvetica,sans-Serif\" font-size=\"14.00\" fill=\"#000000\">class = bull</text>\n",
       "</g>\n",
       "<!-- 0&#45;&gt;140 -->\n",
       "<g id=\"edge8\" class=\"edge\">\n",
       "<title>0&#45;&gt;140</title>\n",
       "<path fill=\"none\" stroke=\"#000000\" d=\"M297.4333,-309.8796C302.3013,-301.2335 307.4819,-292.0322 312.5086,-283.1042\"/>\n",
       "<polygon fill=\"#000000\" stroke=\"#000000\" points=\"315.6103,-284.729 317.4666,-274.2981 309.5107,-281.2947 315.6103,-284.729\"/>\n",
       "<text text-anchor=\"middle\" x=\"324.1978\" y=\"-294.6749\" font-family=\"Helvetica,sans-Serif\" font-size=\"14.00\" fill=\"#000000\">False</text>\n",
       "</g>\n",
       "<!-- 2 -->\n",
       "<g id=\"node3\" class=\"node\">\n",
       "<title>2</title>\n",
       "<path fill=\"#399de5\" fill-opacity=\"0.505882\" stroke=\"#000000\" d=\"M137,-155C137,-155 61,-155 61,-155 55,-155 49,-149 49,-143 49,-143 49,-84 49,-84 49,-78 55,-72 61,-72 61,-72 137,-72 137,-72 143,-72 149,-78 149,-84 149,-84 149,-143 149,-143 149,-149 143,-155 137,-155\"/>\n",
       "<text text-anchor=\"middle\" x=\"99\" y=\"-139.8\" font-family=\"Helvetica,sans-Serif\" font-size=\"14.00\" fill=\"#000000\">infl &lt;= &#45;0.17</text>\n",
       "<text text-anchor=\"middle\" x=\"99\" y=\"-124.8\" font-family=\"Helvetica,sans-Serif\" font-size=\"14.00\" fill=\"#000000\">gini = 0.443</text>\n",
       "<text text-anchor=\"middle\" x=\"99\" y=\"-109.8\" font-family=\"Helvetica,sans-Serif\" font-size=\"14.00\" fill=\"#000000\">samples = 581</text>\n",
       "<text text-anchor=\"middle\" x=\"99\" y=\"-94.8\" font-family=\"Helvetica,sans-Serif\" font-size=\"14.00\" fill=\"#000000\">value = [192, 389]</text>\n",
       "<text text-anchor=\"middle\" x=\"99\" y=\"-79.8\" font-family=\"Helvetica,sans-Serif\" font-size=\"14.00\" fill=\"#000000\">class = bear</text>\n",
       "</g>\n",
       "<!-- 1&#45;&gt;2 -->\n",
       "<g id=\"edge2\" class=\"edge\">\n",
       "<title>1&#45;&gt;2</title>\n",
       "<path fill=\"none\" stroke=\"#000000\" d=\"M175.0791,-190.8796C166.047,-181.6931 156.3987,-171.8798 147.1112,-162.4336\"/>\n",
       "<polygon fill=\"#000000\" stroke=\"#000000\" points=\"149.6023,-159.975 140.0956,-155.2981 144.6107,-164.8827 149.6023,-159.975\"/>\n",
       "</g>\n",
       "<!-- 93 -->\n",
       "<g id=\"node6\" class=\"node\">\n",
       "<title>93</title>\n",
       "<path fill=\"#399de5\" fill-opacity=\"0.054902\" stroke=\"#000000\" d=\"M248.5,-155C248.5,-155 183.5,-155 183.5,-155 177.5,-155 171.5,-149 171.5,-143 171.5,-143 171.5,-84 171.5,-84 171.5,-78 177.5,-72 183.5,-72 183.5,-72 248.5,-72 248.5,-72 254.5,-72 260.5,-78 260.5,-84 260.5,-84 260.5,-143 260.5,-143 260.5,-149 254.5,-155 248.5,-155\"/>\n",
       "<text text-anchor=\"middle\" x=\"216\" y=\"-139.8\" font-family=\"Helvetica,sans-Serif\" font-size=\"14.00\" fill=\"#000000\">ltr &lt;= &#45;0.276</text>\n",
       "<text text-anchor=\"middle\" x=\"216\" y=\"-124.8\" font-family=\"Helvetica,sans-Serif\" font-size=\"14.00\" fill=\"#000000\">gini = 0.5</text>\n",
       "<text text-anchor=\"middle\" x=\"216\" y=\"-109.8\" font-family=\"Helvetica,sans-Serif\" font-size=\"14.00\" fill=\"#000000\">samples = 109</text>\n",
       "<text text-anchor=\"middle\" x=\"216\" y=\"-94.8\" font-family=\"Helvetica,sans-Serif\" font-size=\"14.00\" fill=\"#000000\">value = [53, 56]</text>\n",
       "<text text-anchor=\"middle\" x=\"216\" y=\"-79.8\" font-family=\"Helvetica,sans-Serif\" font-size=\"14.00\" fill=\"#000000\">class = bear</text>\n",
       "</g>\n",
       "<!-- 1&#45;&gt;93 -->\n",
       "<g id=\"edge5\" class=\"edge\">\n",
       "<title>1&#45;&gt;93</title>\n",
       "<path fill=\"none\" stroke=\"#000000\" d=\"M216,-190.8796C216,-182.6838 216,-173.9891 216,-165.5013\"/>\n",
       "<polygon fill=\"#000000\" stroke=\"#000000\" points=\"219.5001,-165.298 216,-155.2981 212.5001,-165.2981 219.5001,-165.298\"/>\n",
       "</g>\n",
       "<!-- 3 -->\n",
       "<g id=\"node4\" class=\"node\">\n",
       "<title>3</title>\n",
       "<path fill=\"#c0c0c0\" stroke=\"#000000\" d=\"M42,-36C42,-36 12,-36 12,-36 6,-36 0,-30 0,-24 0,-24 0,-12 0,-12 0,-6 6,0 12,0 12,0 42,0 42,0 48,0 54,-6 54,-12 54,-12 54,-24 54,-24 54,-30 48,-36 42,-36\"/>\n",
       "<text text-anchor=\"middle\" x=\"27\" y=\"-14.3\" font-family=\"Helvetica,sans-Serif\" font-size=\"14.00\" fill=\"#000000\">(...)</text>\n",
       "</g>\n",
       "<!-- 2&#45;&gt;3 -->\n",
       "<g id=\"edge3\" class=\"edge\">\n",
       "<title>2&#45;&gt;3</title>\n",
       "<path fill=\"none\" stroke=\"#000000\" d=\"M67.6292,-71.8901C60.5806,-62.541 53.2913,-52.8725 46.8664,-44.3506\"/>\n",
       "<polygon fill=\"#000000\" stroke=\"#000000\" points=\"49.5854,-42.143 40.7705,-36.2651 43.9959,-46.3571 49.5854,-42.143\"/>\n",
       "</g>\n",
       "<!-- 48 -->\n",
       "<g id=\"node5\" class=\"node\">\n",
       "<title>48</title>\n",
       "<path fill=\"#c0c0c0\" stroke=\"#000000\" d=\"M114,-36C114,-36 84,-36 84,-36 78,-36 72,-30 72,-24 72,-24 72,-12 72,-12 72,-6 78,0 84,0 84,0 114,0 114,0 120,0 126,-6 126,-12 126,-12 126,-24 126,-24 126,-30 120,-36 114,-36\"/>\n",
       "<text text-anchor=\"middle\" x=\"99\" y=\"-14.3\" font-family=\"Helvetica,sans-Serif\" font-size=\"14.00\" fill=\"#000000\">(...)</text>\n",
       "</g>\n",
       "<!-- 2&#45;&gt;48 -->\n",
       "<g id=\"edge4\" class=\"edge\">\n",
       "<title>2&#45;&gt;48</title>\n",
       "<path fill=\"none\" stroke=\"#000000\" d=\"M99,-71.8901C99,-63.3201 99,-54.4817 99,-46.5041\"/>\n",
       "<polygon fill=\"#000000\" stroke=\"#000000\" points=\"102.5001,-46.2651 99,-36.2651 95.5001,-46.2651 102.5001,-46.2651\"/>\n",
       "</g>\n",
       "<!-- 94 -->\n",
       "<g id=\"node7\" class=\"node\">\n",
       "<title>94</title>\n",
       "<path fill=\"#c0c0c0\" stroke=\"#000000\" d=\"M186,-36C186,-36 156,-36 156,-36 150,-36 144,-30 144,-24 144,-24 144,-12 144,-12 144,-6 150,0 156,0 156,0 186,0 186,0 192,0 198,-6 198,-12 198,-12 198,-24 198,-24 198,-30 192,-36 186,-36\"/>\n",
       "<text text-anchor=\"middle\" x=\"171\" y=\"-14.3\" font-family=\"Helvetica,sans-Serif\" font-size=\"14.00\" fill=\"#000000\">(...)</text>\n",
       "</g>\n",
       "<!-- 93&#45;&gt;94 -->\n",
       "<g id=\"edge6\" class=\"edge\">\n",
       "<title>93&#45;&gt;94</title>\n",
       "<path fill=\"none\" stroke=\"#000000\" d=\"M196.3933,-71.8901C192.1715,-62.9305 187.8115,-53.6777 183.9212,-45.4217\"/>\n",
       "<polygon fill=\"#000000\" stroke=\"#000000\" points=\"187.0353,-43.8192 179.6066,-36.2651 180.7031,-46.8031 187.0353,-43.8192\"/>\n",
       "</g>\n",
       "<!-- 103 -->\n",
       "<g id=\"node8\" class=\"node\">\n",
       "<title>103</title>\n",
       "<path fill=\"#c0c0c0\" stroke=\"#000000\" d=\"M258,-36C258,-36 228,-36 228,-36 222,-36 216,-30 216,-24 216,-24 216,-12 216,-12 216,-6 222,0 228,0 228,0 258,0 258,0 264,0 270,-6 270,-12 270,-12 270,-24 270,-24 270,-30 264,-36 258,-36\"/>\n",
       "<text text-anchor=\"middle\" x=\"243\" y=\"-14.3\" font-family=\"Helvetica,sans-Serif\" font-size=\"14.00\" fill=\"#000000\">(...)</text>\n",
       "</g>\n",
       "<!-- 93&#45;&gt;103 -->\n",
       "<g id=\"edge7\" class=\"edge\">\n",
       "<title>93&#45;&gt;103</title>\n",
       "<path fill=\"none\" stroke=\"#000000\" d=\"M227.764,-71.8901C230.2421,-63.1253 232.7994,-54.0798 235.0946,-45.9615\"/>\n",
       "<polygon fill=\"#000000\" stroke=\"#000000\" points=\"238.4834,-46.8401 237.836,-36.2651 231.7474,-44.9357 238.4834,-46.8401\"/>\n",
       "</g>\n",
       "<!-- 141 -->\n",
       "<g id=\"node10\" class=\"node\">\n",
       "<title>141</title>\n",
       "<path fill=\"#e58139\" fill-opacity=\"0.356863\" stroke=\"#000000\" d=\"M383.5,-155C383.5,-155 298.5,-155 298.5,-155 292.5,-155 286.5,-149 286.5,-143 286.5,-143 286.5,-84 286.5,-84 286.5,-78 292.5,-72 298.5,-72 298.5,-72 383.5,-72 383.5,-72 389.5,-72 395.5,-78 395.5,-84 395.5,-84 395.5,-143 395.5,-143 395.5,-149 389.5,-155 383.5,-155\"/>\n",
       "<text text-anchor=\"middle\" x=\"341\" y=\"-139.8\" font-family=\"Helvetica,sans-Serif\" font-size=\"14.00\" fill=\"#000000\">premium&#45;1 &lt;= &#45;0.06</text>\n",
       "<text text-anchor=\"middle\" x=\"341\" y=\"-124.8\" font-family=\"Helvetica,sans-Serif\" font-size=\"14.00\" fill=\"#000000\">gini = 0.477</text>\n",
       "<text text-anchor=\"middle\" x=\"341\" y=\"-109.8\" font-family=\"Helvetica,sans-Serif\" font-size=\"14.00\" fill=\"#000000\">samples = 120</text>\n",
       "<text text-anchor=\"middle\" x=\"341\" y=\"-94.8\" font-family=\"Helvetica,sans-Serif\" font-size=\"14.00\" fill=\"#000000\">value = [73, 47]</text>\n",
       "<text text-anchor=\"middle\" x=\"341\" y=\"-79.8\" font-family=\"Helvetica,sans-Serif\" font-size=\"14.00\" fill=\"#000000\">class = bull</text>\n",
       "</g>\n",
       "<!-- 140&#45;&gt;141 -->\n",
       "<g id=\"edge9\" class=\"edge\">\n",
       "<title>140&#45;&gt;141</title>\n",
       "<path fill=\"none\" stroke=\"#000000\" d=\"M341,-190.8796C341,-182.6838 341,-173.9891 341,-165.5013\"/>\n",
       "<polygon fill=\"#000000\" stroke=\"#000000\" points=\"344.5001,-165.298 341,-155.2981 337.5001,-165.2981 344.5001,-165.298\"/>\n",
       "</g>\n",
       "<!-- 188 -->\n",
       "<g id=\"node13\" class=\"node\">\n",
       "<title>188</title>\n",
       "<path fill=\"#399de5\" fill-opacity=\"0.858824\" stroke=\"#000000\" d=\"M488.5,-155C488.5,-155 429.5,-155 429.5,-155 423.5,-155 417.5,-149 417.5,-143 417.5,-143 417.5,-84 417.5,-84 417.5,-78 423.5,-72 429.5,-72 429.5,-72 488.5,-72 488.5,-72 494.5,-72 500.5,-78 500.5,-84 500.5,-84 500.5,-143 500.5,-143 500.5,-149 494.5,-155 488.5,-155\"/>\n",
       "<text text-anchor=\"middle\" x=\"459\" y=\"-139.8\" font-family=\"Helvetica,sans-Serif\" font-size=\"14.00\" fill=\"#000000\">d/p &lt;= 0.845</text>\n",
       "<text text-anchor=\"middle\" x=\"459\" y=\"-124.8\" font-family=\"Helvetica,sans-Serif\" font-size=\"14.00\" fill=\"#000000\">gini = 0.219</text>\n",
       "<text text-anchor=\"middle\" x=\"459\" y=\"-109.8\" font-family=\"Helvetica,sans-Serif\" font-size=\"14.00\" fill=\"#000000\">samples = 24</text>\n",
       "<text text-anchor=\"middle\" x=\"459\" y=\"-94.8\" font-family=\"Helvetica,sans-Serif\" font-size=\"14.00\" fill=\"#000000\">value = [3, 21]</text>\n",
       "<text text-anchor=\"middle\" x=\"459\" y=\"-79.8\" font-family=\"Helvetica,sans-Serif\" font-size=\"14.00\" fill=\"#000000\">class = bear</text>\n",
       "</g>\n",
       "<!-- 140&#45;&gt;188 -->\n",
       "<g id=\"edge12\" class=\"edge\">\n",
       "<title>140&#45;&gt;188</title>\n",
       "<path fill=\"none\" stroke=\"#000000\" d=\"M382.2707,-190.8796C391.3799,-181.6931 401.1108,-171.8798 410.4776,-162.4336\"/>\n",
       "<polygon fill=\"#000000\" stroke=\"#000000\" points=\"412.9973,-164.8634 417.5532,-155.2981 408.0267,-159.9345 412.9973,-164.8634\"/>\n",
       "</g>\n",
       "<!-- 142 -->\n",
       "<g id=\"node11\" class=\"node\">\n",
       "<title>142</title>\n",
       "<path fill=\"#c0c0c0\" stroke=\"#000000\" d=\"M330,-36C330,-36 300,-36 300,-36 294,-36 288,-30 288,-24 288,-24 288,-12 288,-12 288,-6 294,0 300,0 300,0 330,0 330,0 336,0 342,-6 342,-12 342,-12 342,-24 342,-24 342,-30 336,-36 330,-36\"/>\n",
       "<text text-anchor=\"middle\" x=\"315\" y=\"-14.3\" font-family=\"Helvetica,sans-Serif\" font-size=\"14.00\" fill=\"#000000\">(...)</text>\n",
       "</g>\n",
       "<!-- 141&#45;&gt;142 -->\n",
       "<g id=\"edge10\" class=\"edge\">\n",
       "<title>141&#45;&gt;142</title>\n",
       "<path fill=\"none\" stroke=\"#000000\" d=\"M329.6717,-71.8901C327.2854,-63.1253 324.8228,-54.0798 322.6126,-45.9615\"/>\n",
       "<polygon fill=\"#000000\" stroke=\"#000000\" points=\"325.9768,-44.9945 319.9727,-36.2651 319.2226,-46.8333 325.9768,-44.9945\"/>\n",
       "</g>\n",
       "<!-- 165 -->\n",
       "<g id=\"node12\" class=\"node\">\n",
       "<title>165</title>\n",
       "<path fill=\"#c0c0c0\" stroke=\"#000000\" d=\"M402,-36C402,-36 372,-36 372,-36 366,-36 360,-30 360,-24 360,-24 360,-12 360,-12 360,-6 366,0 372,0 372,0 402,0 402,0 408,0 414,-6 414,-12 414,-12 414,-24 414,-24 414,-30 408,-36 402,-36\"/>\n",
       "<text text-anchor=\"middle\" x=\"387\" y=\"-14.3\" font-family=\"Helvetica,sans-Serif\" font-size=\"14.00\" fill=\"#000000\">(...)</text>\n",
       "</g>\n",
       "<!-- 141&#45;&gt;165 -->\n",
       "<g id=\"edge11\" class=\"edge\">\n",
       "<title>141&#45;&gt;165</title>\n",
       "<path fill=\"none\" stroke=\"#000000\" d=\"M361.0425,-71.8901C365.3581,-62.9305 369.8149,-53.6777 373.7917,-45.4217\"/>\n",
       "<polygon fill=\"#000000\" stroke=\"#000000\" points=\"377.0158,-46.7933 378.2021,-36.2651 370.7092,-43.7556 377.0158,-46.7933\"/>\n",
       "</g>\n",
       "<!-- 189 -->\n",
       "<g id=\"node14\" class=\"node\">\n",
       "<title>189</title>\n",
       "<path fill=\"#c0c0c0\" stroke=\"#000000\" d=\"M474,-36C474,-36 444,-36 444,-36 438,-36 432,-30 432,-24 432,-24 432,-12 432,-12 432,-6 438,0 444,0 444,0 474,0 474,0 480,0 486,-6 486,-12 486,-12 486,-24 486,-24 486,-30 480,-36 474,-36\"/>\n",
       "<text text-anchor=\"middle\" x=\"459\" y=\"-14.3\" font-family=\"Helvetica,sans-Serif\" font-size=\"14.00\" fill=\"#000000\">(...)</text>\n",
       "</g>\n",
       "<!-- 188&#45;&gt;189 -->\n",
       "<g id=\"edge13\" class=\"edge\">\n",
       "<title>188&#45;&gt;189</title>\n",
       "<path fill=\"none\" stroke=\"#000000\" d=\"M459,-71.8901C459,-63.3201 459,-54.4817 459,-46.5041\"/>\n",
       "<polygon fill=\"#000000\" stroke=\"#000000\" points=\"462.5001,-46.2651 459,-36.2651 455.5001,-46.2651 462.5001,-46.2651\"/>\n",
       "</g>\n",
       "<!-- 192 -->\n",
       "<g id=\"node15\" class=\"node\">\n",
       "<title>192</title>\n",
       "<path fill=\"#c0c0c0\" stroke=\"#000000\" d=\"M546,-36C546,-36 516,-36 516,-36 510,-36 504,-30 504,-24 504,-24 504,-12 504,-12 504,-6 510,0 516,0 516,0 546,0 546,0 552,0 558,-6 558,-12 558,-12 558,-24 558,-24 558,-30 552,-36 546,-36\"/>\n",
       "<text text-anchor=\"middle\" x=\"531\" y=\"-14.3\" font-family=\"Helvetica,sans-Serif\" font-size=\"14.00\" fill=\"#000000\">(...)</text>\n",
       "</g>\n",
       "<!-- 188&#45;&gt;192 -->\n",
       "<g id=\"edge14\" class=\"edge\">\n",
       "<title>188&#45;&gt;192</title>\n",
       "<path fill=\"none\" stroke=\"#000000\" d=\"M490.3708,-71.8901C497.4194,-62.541 504.7087,-52.8725 511.1336,-44.3506\"/>\n",
       "<polygon fill=\"#000000\" stroke=\"#000000\" points=\"514.0041,-46.3571 517.2295,-36.2651 508.4146,-42.143 514.0041,-46.3571\"/>\n",
       "</g>\n",
       "</g>\n",
       "</svg>\n"
      ],
      "text/plain": [
       "<graphviz.files.Source at 0x1a26407ef0>"
      ]
     },
     "execution_count": 20,
     "metadata": {},
     "output_type": "execute_result"
    }
   ],
   "source": [
    "import graphviz \n",
    "dot_data = tree.export_graphviz(clf,\n",
    "                                feature_names=['premium-1','d/p','d/y','e/p','d/e','svar','csp','b/m','ntis','tbl','lty','ltr','tms','dfy','dfr','infl'],\n",
    "                                class_names= ['bull','bear'],\n",
    "                                out_file=None,\n",
    "                                max_depth = 2,\n",
    "                                filled=True,\n",
    "                                rounded=True)\n",
    "graph = graphviz.Source(dot_data)  \n",
    "graph "
   ]
  },
  {
   "cell_type": "markdown",
   "metadata": {},
   "source": [
    "### Low inflation as a strong indicator for bear market"
   ]
  },
  {
   "cell_type": "code",
   "execution_count": 21,
   "metadata": {},
   "outputs": [
    {
     "data": {
      "image/png": "[encoded data removed]",
      "text/plain": [
       "<Figure size 432x288 with 1 Axes>"
      ]
     },
     "metadata": {},
     "output_type": "display_data"
    }
   ],
   "source": [
    "temp = df['premium']\n",
    "premium = temp[int(0.8*len(norm_x)):]\n",
    "cumsum = 0\n",
    "cs = []\n",
    "\n",
    "cumsum_h = 0\n",
    "cs_h = []\n",
    "\n",
    "for i in range(int(len(predicted))):\n",
    "    if predicted[i] == 1:\n",
    "        cumsum += premium[i+836]\n",
    "    else:\n",
    "        cumsum += -1*premium[i+836]\n",
    "#         unblock the above two lines to impose short-selling constraint\n",
    "    cs.append(cumsum)\n",
    "\n",
    "for i in range(len(bull_test)):\n",
    "    cumsum_h += premium[i+836]\n",
    "    cs_h.append(cumsum_h)\n",
    "    \n",
    "plt.figure()\n",
    "plt.plot(cs, label='ML Portfolio Return')\n",
    "plt.plot(cs_h, label='Benchmark Return')\n",
    "plt.legend(loc='best')\n",
    "plt.ylabel('Return ($)')\n",
    "plt.xlabel('Months')\n",
    "plt.show()"
   ]
  },
  {
   "cell_type": "markdown",
   "metadata": {},
   "source": [
    "K-Means (K=7)"
   ]
  },
  {
   "cell_type": "code",
   "execution_count": 22,
   "metadata": {
    "scrolled": true
   },
   "outputs": [
    {
     "name": "stdout",
     "output_type": "stream",
     "text": [
      "Confusion Matrix:  \n",
      " [True Negative , False Positive \n",
      " False Negative, True Positive] \n",
      " [[  8  14]\n",
      " [ 71 116]]\n",
      "precision:  0.8923\n",
      "recall:  0.6203\n"
     ]
    }
   ],
   "source": [
    "from sklearn.neighbors import KNeighborsClassifier\n",
    "\n",
    "clf = KNeighborsClassifier(n_neighbors=7)\n",
    "clf.fit(norm_x_train, bull_train)\n",
    "predicted= clf.predict(norm_x_test)\n",
    "\n",
    "c_matrix = confusion_matrix(predicted,bull_test)\n",
    "precision = c_matrix[1,1]/(c_matrix[1,1]+c_matrix[0,1])\n",
    "recall= c_matrix[1,1]/(c_matrix[1,1]+c_matrix[1,0])\n",
    "\n",
    "print(\"Confusion Matrix: \" ,\"\\n\" ,\"[True Negative , False Positive\", \"\\n\",\"False Negative, True Positive]\", \"\\n\" ,c_matrix)     \n",
    "\n",
    "print(\"precision: \", round(precision,4))  \n",
    "print(\"recall: \", round(recall,4))  "
   ]
  },
  {
   "cell_type": "code",
   "execution_count": 23,
   "metadata": {
    "scrolled": false
   },
   "outputs": [
    {
     "data": {
      "image/png": "[encoded data removed]",
      "text/plain": [
       "<Figure size 432x288 with 1 Axes>"
      ]
     },
     "metadata": {},
     "output_type": "display_data"
    }
   ],
   "source": [
    "temp = df['premium']\n",
    "premium = temp[int(len(temp)/2):]\n",
    "\n",
    "cumsum = 0\n",
    "cs = []\n",
    "\n",
    "cumsum_h = 0\n",
    "cs_h = []\n",
    "\n",
    "for i in range(len(predicted)):\n",
    "    if predicted[i] == 1:\n",
    "        cumsum += premium[i+836]\n",
    "    else:\n",
    "        cumsum += -1*premium[i+836]\n",
    "        # unblock the above two lines to impose short-selling constraint\n",
    "    cs.append(cumsum)\n",
    "\n",
    "for i in range(len(bull_test)):\n",
    "    cumsum_h += premium[i+836]\n",
    "    cs_h.append(cumsum_h)\n",
    "    \n",
    "plt.figure()\n",
    "plt.plot(cs, label='ML Portfolio Return')\n",
    "plt.plot(cs_h, label='Benchmark Return')\n",
    "plt.legend(loc='best')\n",
    "plt.ylabel('Return ($)')\n",
    "plt.xlabel('Months')\n",
    "plt.show()"
   ]
  },
  {
   "cell_type": "markdown",
   "metadata": {},
   "source": [
    "## Regression (Equity Premium Prediction)"
   ]
  },
  {
   "cell_type": "code",
   "execution_count": 142,
   "metadata": {
    "scrolled": true
   },
   "outputs": [],
   "source": [
    "ret = df.premium\n",
    "x = df.iloc[:,4:]"
   ]
  },
  {
   "cell_type": "markdown",
   "metadata": {},
   "source": [
    "We will first start with the simplest linear regression model. "
   ]
  },
  {
   "cell_type": "code",
   "execution_count": 143,
   "metadata": {
    "scrolled": false
   },
   "outputs": [
    {
     "name": "stderr",
     "output_type": "stream",
     "text": [
      "/anaconda3/lib/python3.6/site-packages/sklearn/cross_validation.py:41: DeprecationWarning: This module was deprecated in version 0.18 in favor of the model_selection module into which all the refactored classes and functions are moved. Also note that the interface of the new CV iterators are different from that of this module. This module will be removed in 0.20.\n",
      "  \"This module will be removed in 0.20.\", DeprecationWarning)\n"
     ]
    },
    {
     "name": "stdout",
     "output_type": "stream",
     "text": [
      "MAE of regression:  0.008048333770433132\n",
      "MAE of hist average:  0.00515315257338971\n",
      "Diff MAE:  -0.0028951811970434217\n",
      "RMSE of regression:  0.00010014956285362834\n",
      "RMSE of hist average:  0.039741222058134955\n",
      "Diff RMSE:  0.03964107249528133\n",
      "adjusted R2: 1.0019532594410034\n",
      "-------------------------------------------------------------------\n",
      "MAE of regression:  0.007740374177464245\n",
      "MAE of hist average:  0.005587463837539477\n",
      "Diff MAE:  -0.002152910339924768\n",
      "RMSE of regression:  9.386462957548477e-05\n",
      "RMSE of hist average:  0.040980263177127774\n",
      "Diff RMSE:  0.040886398547552286\n",
      "adjusted R2: 1.0017049841884225\n",
      "-------------------------------------------------------------------\n",
      "MAE of regression:  0.010514353766484411\n",
      "MAE of hist average:  0.005697696477008201\n",
      "Diff MAE:  -0.004816657289476211\n",
      "RMSE of regression:  0.00019343503779616178\n",
      "RMSE of hist average:  0.04605211021996715\n",
      "Diff RMSE:  0.04585867518217099\n",
      "adjusted R2: 1.0027699005155797\n",
      "-------------------------------------------------------------------\n",
      "MAE of regression:  0.00904529467310396\n",
      "MAE of hist average:  0.005065633839807874\n",
      "Diff MAE:  -0.003979660833296086\n",
      "RMSE of regression:  0.00013902260129058125\n",
      "RMSE of hist average:  0.040025618571566925\n",
      "Diff RMSE:  0.03988659597027634\n",
      "adjusted R2: 1.00275195931517\n",
      "-------------------------------------------------------------------\n",
      "MAE of regression:  0.007989431247970146\n",
      "MAE of hist average:  0.005840597916020638\n",
      "Diff MAE:  -0.002148833331949508\n",
      "RMSE of regression:  9.652124190081015e-05\n",
      "RMSE of hist average:  0.04481924193582679\n",
      "Diff RMSE:  0.04472272069392598\n",
      "adjusted R2: 1.0014766546532778\n",
      "-------------------------------------------------------------------\n",
      "MAE of regression:  0.009214248024801301\n",
      "MAE of hist average:  0.005056398443729396\n",
      "Diff MAE:  -0.004157849581071905\n",
      "RMSE of regression:  0.00015174926043499016\n",
      "RMSE of hist average:  0.04100392460096191\n",
      "Diff RMSE:  0.04085217534052692\n",
      "adjusted R2: 1.002770328139347\n",
      "-------------------------------------------------------------------\n",
      "MAE of regression:  0.009354609921984712\n",
      "MAE of hist average:  0.005066526185353951\n",
      "Diff MAE:  -0.004288083736630761\n",
      "RMSE of regression:  0.00013549348745406999\n",
      "RMSE of hist average:  0.04022061091431747\n",
      "Diff RMSE:  0.0400851174268634\n",
      "adjusted R2: 1.0026126695331663\n",
      "-------------------------------------------------------------------\n",
      "the main take way: Mean(Diff_MAE) is -0.0035 Mean(Diff_RMSE) is 0.0417\n"
     ]
    }
   ],
   "source": [
    "# Here are 67 years of data prior to 2013 \n",
    "# Spilt the data into 7 folds and cross-validate\n",
    "# In each sample we have around 10 years of data\n",
    "\n",
    "pd.options.mode.chained_assignment=None\n",
    "import math\n",
    "from sklearn import linear_model\n",
    "from sklearn.metrics import mean_absolute_error,mean_squared_error, r2_score\n",
    "from sklearn.cross_validation import KFold\n",
    "\n",
    "kf = KFold(x.shape[0],n_folds=7, shuffle=True)\n",
    "\n",
    "\n",
    "diff_MAE = []\n",
    "diff_RMSE = []\n",
    "\n",
    "for train_index, test_index in kf:\n",
    "    x_train, x_test = x.iloc[train_index], x.iloc[test_index]\n",
    "    ret_train, ret_test = ret.iloc[train_index], ret.iloc[test_index]\n",
    "\n",
    "    regr = linear_model.LinearRegression()\n",
    "    regr.fit(x_train, ret_train)\n",
    "\n",
    "    ret_pred = regr.predict(x_test)\n",
    "\n",
    "    \n",
    "    diff = df['his_avg'].iloc[test_index] - df['premium'].iloc[test_index]\n",
    "    mae_avg = diff.abs().sum() / len(train_index)\n",
    "    diff_MAE.append(mae_avg - mean_absolute_error(ret_test, ret_pred))\n",
    "    rmse_avg = math.sqrt(np.power(diff, 2).sum() / len(test_index))\n",
    "    diff_RMSE.append(rmse_avg - mean_squared_error(ret_test, ret_pred))\n",
    "\n",
    "    r_squared = r2_score(ret_test, ret_pred)\n",
    "    adjusted_r_squared = 1 - (1-r_squared)*(len(ret_test)-1)/(len(ret_test)-x_test.shape[1]-1)\n",
    "    \n",
    "    print(\"MAE of regression: \", mean_absolute_error(ret_test, ret_pred))\n",
    "    print(\"MAE of hist average: \", mae_avg)\n",
    "    print(\"Diff MAE: \", mae_avg - mean_absolute_error(ret_test, ret_pred))\n",
    "    print(\"RMSE of regression: \", mean_squared_error(ret_test, ret_pred))\n",
    "    print(\"RMSE of hist average: \", rmse_avg)\n",
    "    print(\"Diff RMSE: \", rmse_avg - mean_squared_error(ret_test, ret_pred))\n",
    "    print(\"adjusted R2:\", adjusted_r_squared)\n",
    "    print(\"-------------------------------------------------------------------\")\n",
    "    \n",
    "print( \"the main take way: Mean(Diff_MAE) is\", round(sum(diff_MAE)/len(diff_MAE),4),\n",
    "      \"Mean(Diff_RMSE) is\", round(sum(diff_RMSE)/len(diff_RMSE),4))"
   ]
  },
  {
   "cell_type": "markdown",
   "metadata": {},
   "source": [
    "## Note:\n",
    "Diff_MAE = MAE of Historical Average - MAE of current method  \n",
    "Diff_MAE is Negative for linear regression: Linear model does a WORSE job on prediction.   \n",
    "Diff_MAE is Positive for ML methods: ML methods beat the benchmark forecast."
   ]
  },
  {
   "cell_type": "markdown",
   "metadata": {},
   "source": [
    "Random Forrest"
   ]
  },
  {
   "cell_type": "code",
   "execution_count": 144,
   "metadata": {
    "scrolled": true
   },
   "outputs": [
    {
     "name": "stderr",
     "output_type": "stream",
     "text": [
      "/anaconda3/lib/python3.6/site-packages/sklearn/ensemble/weight_boosting.py:29: DeprecationWarning: numpy.core.umath_tests is an internal NumPy module and should not be imported. It will be removed in a future NumPy release.\n",
      "  from numpy.core.umath_tests import inner1d\n"
     ]
    },
    {
     "name": "stdout",
     "output_type": "stream",
     "text": [
      "MAE of regression_in:  0.0004684632173754462\n",
      "MAE of regression_out:  0.0008318186605938289\n",
      "MAE of hist average:  0.00515315257338971\n",
      "Diff MAE:  0.0043213339127958815\n",
      "RMSE of regression:  4.233193552916601e-06\n",
      "RMSE of hist average:  0.039741222058134955\n",
      "Diff RMSE:  0.03973698886458204\n",
      "adjusted R2: 1.0000825617709876\n",
      "-------------------------------------------------------------------\n",
      "MAE of regression_in:  0.0005188928816910979\n",
      "MAE of regression_out:  0.0007126055132834755\n",
      "MAE of hist average:  0.005587463837539477\n",
      "Diff MAE:  0.0048748583242560015\n",
      "RMSE of regression:  2.412315378283186e-06\n",
      "RMSE of hist average:  0.040980263177127774\n",
      "Diff RMSE:  0.04097785086174949\n",
      "adjusted R2: 1.0000438179918896\n",
      "-------------------------------------------------------------------\n",
      "MAE of regression_in:  0.0004272013225987866\n",
      "MAE of regression_out:  0.0019163840033902444\n",
      "MAE of hist average:  0.005697696477008201\n",
      "Diff MAE:  0.0037813124736179563\n",
      "RMSE of regression:  0.00010841332366252862\n",
      "RMSE of hist average:  0.04605211021996715\n",
      "Diff RMSE:  0.04594369689630462\n",
      "adjusted R2: 1.0015524287871\n",
      "-------------------------------------------------------------------\n",
      "MAE of regression_in:  0.0005332166130091775\n",
      "MAE of regression_out:  0.000785211644486592\n",
      "MAE of hist average:  0.005065633839807874\n",
      "Diff MAE:  0.0042804221953212825\n",
      "RMSE of regression:  6.157694556254521e-06\n",
      "RMSE of hist average:  0.040025618571566925\n",
      "Diff RMSE:  0.04001946087701067\n",
      "adjusted R2: 1.0001218918703632\n",
      "-------------------------------------------------------------------\n",
      "MAE of regression_in:  0.0006004109199692137\n",
      "MAE of regression_out:  0.0014302234803197284\n",
      "MAE of hist average:  0.005840597916020638\n",
      "Diff MAE:  0.004410374435700909\n",
      "RMSE of regression:  1.7846160888207415e-05\n",
      "RMSE of hist average:  0.04481924193582679\n",
      "Diff RMSE:  0.04480139577493858\n",
      "adjusted R2: 1.0002730240100495\n",
      "-------------------------------------------------------------------\n",
      "MAE of regression_in:  0.0005778989992019438\n",
      "MAE of regression_out:  0.0014235491761705001\n",
      "MAE of hist average:  0.005056398443729396\n",
      "Diff MAE:  0.003632849267558896\n",
      "RMSE of regression:  4.781416561369742e-05\n",
      "RMSE of hist average:  0.04100392460096191\n",
      "Diff RMSE:  0.04095611043534821\n",
      "adjusted R2: 1.0008728934037592\n",
      "-------------------------------------------------------------------\n",
      "MAE of regression_in:  0.0004637569783428734\n",
      "MAE of regression_out:  0.001022581350992022\n",
      "MAE of hist average:  0.005066526185353951\n",
      "Diff MAE:  0.004043944834361929\n",
      "RMSE of regression:  2.8422153459861924e-05\n",
      "RMSE of hist average:  0.04022061091431747\n",
      "Diff RMSE:  0.04019218876085761\n",
      "adjusted R2: 1.0005480536061686\n",
      "-------------------------------------------------------------------\n",
      "the main take way: Mean(Diff_MAE) is 0.0042 Mean(Diff_RMSE) is 0.0418 In-sample avg:  0.0005 Out-sample avg:  0.0012\n"
     ]
    }
   ],
   "source": [
    "pd.options.mode.chained_assignment=None\n",
    "from sklearn.ensemble import RandomForestRegressor\n",
    "\n",
    "diff_MAE = []\n",
    "diff_RMSE = []\n",
    "in_sample = []\n",
    "out_sample = []\n",
    "\n",
    "for train_index, test_index in kf:\n",
    "    x_train, x_test = x.iloc[train_index], x.iloc[test_index]\n",
    "    ret_train, ret_test = ret.iloc[train_index], ret.iloc[test_index]\n",
    "    \n",
    "    regr = RandomForestRegressor(max_depth=25, random_state=0, n_estimators=25)\n",
    "    regr.fit(x_train, ret_train)\n",
    "    \n",
    "    ret_pred = regr.predict(x_test)\n",
    "    ret_fit = regr.predict(x_train)\n",
    "    \n",
    "    diff = df['his_avg'].iloc[test_index] - df['premium'].iloc[test_index]\n",
    "    mae_avg = diff.abs().sum() / len(train_index)\n",
    "    diff_MAE.append(mae_avg - mean_absolute_error(ret_test, ret_pred))\n",
    "    rmse_avg = math.sqrt(np.power(diff, 2).sum() / len(test_index))\n",
    "    diff_RMSE.append(rmse_avg - mean_squared_error(ret_test, ret_pred))\n",
    "\n",
    "    r_squared = r2_score(ret_test, ret_pred)\n",
    "    adjusted_r_squared = 1 - (1-r_squared)*(len(ret_test)-1)/(len(ret_test)-x_test.shape[1]-1)\n",
    "    \n",
    "    in_sample.append(mean_absolute_error(ret_train, ret_fit))\n",
    "    out_sample.append(mean_absolute_error(ret_test, ret_pred))\n",
    "    \n",
    "    print(\"MAE of regression_in: \", mean_absolute_error(ret_train, ret_fit))\n",
    "    print(\"MAE of regression_out: \", mean_absolute_error(ret_test, ret_pred))\n",
    "    print(\"MAE of hist average: \", mae_avg)\n",
    "    print(\"Diff MAE: \", mae_avg - mean_absolute_error(ret_test, ret_pred))\n",
    "    print(\"RMSE of regression: \", mean_squared_error(ret_test, ret_pred))\n",
    "    print(\"RMSE of hist average: \", rmse_avg)\n",
    "    print(\"Diff RMSE: \", rmse_avg - mean_squared_error(ret_test, ret_pred))\n",
    "    print(\"adjusted R2:\", adjusted_r_squared)\n",
    "    print(\"-------------------------------------------------------------------\")\n",
    "    \n",
    "print( \"the main take way: Mean(Diff_MAE) is\", round(sum(diff_MAE)/len(diff_MAE),4),\n",
    "      \"Mean(Diff_RMSE) is\", round(sum(diff_RMSE)/len(diff_RMSE),4), \n",
    "      \"In-sample avg: \", round(sum(in_sample)/len(in_sample),4),\n",
    "      \"Out-sample avg: \", round(sum(out_sample)/len(out_sample),4))"
   ]
  },
  {
   "cell_type": "markdown",
   "metadata": {},
   "source": [
    "Boosted Trees"
   ]
  },
  {
   "cell_type": "code",
   "execution_count": 145,
   "metadata": {},
   "outputs": [
    {
     "name": "stdout",
     "output_type": "stream",
     "text": [
      "MAE of regression:  0.0008857335446538282\n",
      "MAE of hist average:  0.032321670148204605\n",
      "Diff MAE:  0.031435936603550776\n",
      "RMSE of regression:  3.967178712756121e-06\n",
      "RMSE of hist average:  0.04225215916481874\n",
      "Diff RMSE:  0.042248191986105986\n",
      "adjusted R2: 1.000077373570628\n",
      "-------------------------------------------------------------------\n",
      "MAE of regression:  0.0007596410530923491\n",
      "MAE of hist average:  0.03188735888405484\n",
      "Diff MAE:  0.031127717830962492\n",
      "RMSE of regression:  2.1807679260101003e-06\n",
      "RMSE of hist average:  0.042054146292291074\n",
      "Diff RMSE:  0.04205196552436506\n",
      "adjusted R2: 1.0000396120972221\n",
      "-------------------------------------------------------------------\n",
      "MAE of regression:  0.001782416353861496\n",
      "MAE of hist average:  0.03177712624458612\n",
      "Diff MAE:  0.02999470989072462\n",
      "RMSE of regression:  8.339333922440027e-05\n",
      "RMSE of hist average:  0.041168863186441806\n",
      "Diff RMSE:  0.04108546984721741\n",
      "adjusted R2: 1.0011941541508989\n",
      "-------------------------------------------------------------------\n",
      "MAE of regression:  0.0008230675204355262\n",
      "MAE of hist average:  0.03240918888178644\n",
      "Diff MAE:  0.031586121361350916\n",
      "RMSE of regression:  5.277414957451501e-06\n",
      "RMSE of hist average:  0.04220732832902981\n",
      "Diff RMSE:  0.042202050914072364\n",
      "adjusted R2: 1.0001044666918713\n",
      "-------------------------------------------------------------------\n",
      "MAE of regression:  0.0016090069364065366\n",
      "MAE of hist average:  0.03163422480557368\n",
      "Diff MAE:  0.030025217869167144\n",
      "RMSE of regression:  4.1608523985717024e-05\n",
      "RMSE of hist average:  0.04139534350998232\n",
      "Diff RMSE:  0.04135373498599661\n",
      "adjusted R2: 1.0006365585372665\n",
      "-------------------------------------------------------------------\n",
      "MAE of regression:  0.0014383859324833862\n",
      "MAE of hist average:  0.03241842427786493\n",
      "Diff MAE:  0.03098003834538154\n",
      "RMSE of regression:  3.9525653534690576e-05\n",
      "RMSE of hist average:  0.04205029655890334\n",
      "Diff RMSE:  0.04201077090536865\n",
      "adjusted R2: 1.0007215786745804\n",
      "-------------------------------------------------------------------\n",
      "MAE of regression:  0.0010065365941326519\n",
      "MAE of hist average:  0.032353985198962695\n",
      "Diff MAE:  0.03134744860483004\n",
      "RMSE of regression:  1.9112193765569544e-05\n",
      "RMSE of hist average:  0.04217360939986197\n",
      "Diff RMSE:  0.0421544972060964\n",
      "adjusted R2: 1.0003685331841516\n",
      "-------------------------------------------------------------------\n",
      "the main take way: Mean(Diff_MAE) is 0.0309 Mean(Diff_RMSE) is 0.0419\n"
     ]
    }
   ],
   "source": [
    "from sklearn.ensemble import GradientBoostingRegressor\n",
    "\n",
    "diff_MAE = []\n",
    "diff_RMSE = []\n",
    "\n",
    "for train_index, test_index in kf:\n",
    "    x_train, x_test = x.iloc[train_index], x.iloc[test_index]\n",
    "    ret_train, ret_test = ret.iloc[train_index], ret.iloc[test_index]\n",
    "    \n",
    "    regr = GradientBoostingRegressor(n_estimators=25, learning_rate=0.5, max_depth=25, random_state=0, loss='ls')\n",
    "    regr.fit(x_train, ret_train)\n",
    "    \n",
    "    ret_pred = regr.predict(x_test)\n",
    "    \n",
    "    diff = df['his_avg'].iloc[train_index] - df['premium'].iloc[train_index]\n",
    "    mae_avg = diff.abs().sum() / len(train_index)\n",
    "    diff_MAE.append(mae_avg - mean_absolute_error(ret_test, ret_pred))\n",
    "    rmse_avg = math.sqrt(np.power(diff, 2).sum() / len(train_index))\n",
    "    diff_RMSE.append(rmse_avg - mean_squared_error(ret_test, ret_pred))\n",
    "\n",
    "    r_squared = r2_score(ret_test, ret_pred)\n",
    "    adjusted_r_squared = 1 - (1-r_squared)*(len(ret_test)-1)/(len(ret_test)-x_test.shape[1]-1)\n",
    "    \n",
    "    print(\"MAE of regression: \", mean_absolute_error(ret_test, ret_pred))\n",
    "    print(\"MAE of hist average: \", mae_avg)\n",
    "    print(\"Diff MAE: \", mae_avg - mean_absolute_error(ret_test, ret_pred))\n",
    "    print(\"RMSE of regression: \", mean_squared_error(ret_test, ret_pred))\n",
    "    print(\"RMSE of hist average: \", rmse_avg)\n",
    "    print(\"Diff RMSE: \", rmse_avg - mean_squared_error(ret_test, ret_pred))\n",
    "    print(\"adjusted R2:\", adjusted_r_squared)\n",
    "    print(\"-------------------------------------------------------------------\")\n",
    "    \n",
    "print( \"the main take way: Mean(Diff_MAE) is\", round(sum(diff_MAE)/len(diff_MAE),4),\n",
    "      \"Mean(Diff_RMSE) is\", round(sum(diff_RMSE)/len(diff_RMSE),4))"
   ]
  }
 ],
 "metadata": {
  "kernelspec": {
   "display_name": "Python 3",
   "language": "python",
   "name": "python3"
  },
  "language_info": {
   "codemirror_mode": {
    "name": "ipython",
    "version": 3
   },
   "file_extension": ".py",
   "mimetype": "text/x-python",
   "name": "python",
   "nbconvert_exporter": "python",
   "pygments_lexer": "ipython3",
   "version": "3.6.5"
  }
 },
 "nbformat": 4,
 "nbformat_minor": 2
}
